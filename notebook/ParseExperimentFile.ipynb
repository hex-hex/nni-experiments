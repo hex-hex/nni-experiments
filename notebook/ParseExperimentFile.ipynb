{
 "cells": [
  {
   "cell_type": "code",
   "execution_count": 81,
   "metadata": {},
   "outputs": [],
   "source": [
    "import os\n",
    "import datetime\n",
    "import json\n",
    "import sqlite3"
   ]
  },
  {
   "cell_type": "code",
   "execution_count": 119,
   "metadata": {},
   "outputs": [],
   "source": [
    "for root,directories, files in os.walk('../nni'):\n",
    "    for file in files:\n",
    "        file_name = '{}/{}'.format(root,file)"
   ]
  },
  {
   "cell_type": "code",
   "execution_count": 120,
   "metadata": {},
   "outputs": [],
   "source": [
    "def parse_state(file_name: str):\n",
    "    with open(file_name, 'r') as f:\n",
    "        time_stamp = int(f.readlines()[0].split(' ')[-1]) / 1000.0\n",
    "        exp_time = datetime.datetime.fromtimestamp(time_stamp)\n",
    "        return exp_time\n",
    "def parse_metrics(file_name: str):\n",
    "    with open(file_name, 'r') as f:\n",
    "        content = f.read()\n",
    "        file_head = content.split('{')[0]\n",
    "        metric_details =  json.loads(content.replace(file_head, ''))\n",
    "        return {\n",
    "            'metric_id':file_head,\n",
    "            **metric_details\n",
    "        }\n",
    "def parse_parameters(file_name: str):\n",
    "    with open(file_name, 'r') as f:\n",
    "        content = f.read()\n",
    "        return json.loads(content)\n",
    "def parse_sqlite(file_name:str):\n",
    "    try:\n",
    "        conn = sqlite3.connect(file_name)\n",
    "        c = conn.cursor()\n",
    "        c.execute(' SELECT * FROM ExperimentProfile')\n",
    "        result = c.fetchall()\n",
    "    finally:\n",
    "        conn.close()\n",
    "    return json.loads(result[0][0])"
   ]
  },
  {
   "cell_type": "code",
   "execution_count": 121,
   "metadata": {},
   "outputs": [
    {
     "data": {
      "text/plain": [
       "{'authorName': 'Xiao HE',\n",
       " 'experimentName': 'tunning_model_1',\n",
       " 'trialConcurrency': 1,\n",
       " 'maxExecDuration': 14400,\n",
       " 'maxTrialNum': 30,\n",
       " 'searchSpace': '{\"hidden_factors\": {\"_type\": \"choice\", \"_value\": [4, 8, 16, 32, 64, 128]}, \"batch\": {\"_type\": \"choice\", \"_value\": [128, 256, 512, 1024, 2048]}, \"regularizer\": {\"_type\": \"uniform\", \"_value\": [-8, -4]}}',\n",
       " 'trainingServicePlatform': 'local',\n",
       " 'advisor': {'builtinAdvisorName': 'BOHB',\n",
       "  'classArgs': {'optimize_mode': 'maximize',\n",
       "   'min_budget': 1,\n",
       "   'max_budget': 27,\n",
       "   'eta': 3}},\n",
       " 'versionCheck': True,\n",
       " 'clusterMetaData': [{'key': 'codeDir',\n",
       "   'value': '/root/nni-experiments/model_1/.'},\n",
       "  {'key': 'command', 'value': 'python main.py'}]}"
      ]
     },
     "execution_count": 121,
     "metadata": {},
     "output_type": "execute_result"
    }
   ],
   "source": [
    "file_name = '../nni/experiments/MrUaVQmO/db/nni.sqlite'\n",
    "meta_data = file_name.split('/')\n",
    "experiment_id = meta_data[3]\n",
    "trial_id = meta_data[5]\n",
    "file_type = meta_data[-1]\n",
    "parse_dict = {\n",
    "    'state': parse_state,\n",
    "    'metrics': parse_metrics,\n",
    "    'parameter.cfg': parse_parameters,\n",
    "    'nni.sqlite': parse_sqlite,\n",
    "}\n",
    "parse_dict[file_type](file_name)\n"
   ]
  },
  {
   "cell_type": "code",
   "execution_count": null,
   "metadata": {},
   "outputs": [],
   "source": []
  }
 ],
 "metadata": {
  "kernelspec": {
   "display_name": "Python 3",
   "language": "python",
   "name": "python3"
  },
  "language_info": {
   "codemirror_mode": {
    "name": "ipython",
    "version": 3
   },
   "file_extension": ".py",
   "mimetype": "text/x-python",
   "name": "python",
   "nbconvert_exporter": "python",
   "pygments_lexer": "ipython3",
   "version": "3.7.7"
  }
 },
 "nbformat": 4,
 "nbformat_minor": 4
}
