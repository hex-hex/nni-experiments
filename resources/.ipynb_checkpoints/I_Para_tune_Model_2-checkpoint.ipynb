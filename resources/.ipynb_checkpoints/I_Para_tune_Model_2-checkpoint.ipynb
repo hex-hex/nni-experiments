{
 "cells": [
  {
   "cell_type": "markdown",
   "metadata": {
    "colab_type": "text",
    "id": "ISjKiMP59TG4"
   },
   "source": [
    "Specifically, in this post, I'll talk about:\n",
    "\n",
    " - Matrix Factorisation in Keras\n",
    " - Adding non-negativitiy constraints to solve non-negative matrix factorisation (NNMF)\n",
    " - No scaler!!\n",
    " - Using neural networks for recommendations\n",
    " - Random normal (default) initilizer\n",
    " - One layers or batch norm + dropout (will change in 2b)  "
   ]
  },
  {
   "cell_type": "markdown",
   "metadata": {
    "colab_type": "text",
    "id": "p00iqHSPdMqj"
   },
   "source": [
    "# Select dataset to process"
   ]
  },
  {
   "cell_type": "code",
   "execution_count": 34,
   "metadata": {
    "colab": {
     "base_uri": "https://localhost:8080/",
     "height": 34
    },
    "colab_type": "code",
    "id": "a4d8mBUNT1ET",
    "outputId": "73783165-3cca-44ac-983c-5b0557c59a1d"
   },
   "outputs": [],
   "source": [
    "#tensorflow_version 2.x\n",
    "import tensorflow as tf\n",
    "from tensorflow import keras\n",
    "from tensorflow.keras import Model\n",
    "from tensorflow.keras.layers import Input, Dense, Concatenate, Embedding, Dropout, BatchNormalization\n",
    "from tensorflow.keras.optimizers import Adam\n",
    "from tensorflow.keras.utils import Sequence\n",
    "from tensorflow.keras.regularizers import l2, l1, l1_l2\n",
    "from tensorflow.keras.initializers import RandomUniform, he_normal,he_uniform\n",
    "import math\n"
   ]
  },
  {
   "cell_type": "code",
   "execution_count": 35,
   "metadata": {
    "cellView": "both",
    "colab": {},
    "colab_type": "code",
    "id": "LQFxPiJIT1Ey"
   },
   "outputs": [],
   "source": [
    "#@title\n",
    "from sklearn.datasets import dump_svmlight_file\n",
    "import numpy as np\n",
    "import pandas as pd\n",
    "import os\n",
    "import urllib\n",
    "import zipfile\n",
    "from sklearn.model_selection import train_test_split\n",
    "import shutil\n",
    "\n",
    "import matplotlib.pyplot as plt\n",
    "import warnings\n",
    "warnings.filterwarnings('ignore')\n",
    "\n",
    "%matplotlib inline"
   ]
  },
  {
   "cell_type": "markdown",
   "metadata": {
    "colab_type": "text",
    "id": "TVyUSGRx1j0o"
   },
   "source": [
    "##Base settings"
   ]
  },
  {
   "cell_type": "code",
   "execution_count": 36,
   "metadata": {
    "colab": {},
    "colab_type": "code",
    "id": "lUauhLQwMKhh"
   },
   "outputs": [],
   "source": [
    "model_name='model2ai'\n",
    "seed=2020\n",
    "embedding_init = RandomUniform(seed=seed)\n",
    "relu_init = he_uniform(seed=seed)\n",
    "#embeddings_regu =l2(1e-6)\n",
    "n_latent_factors = 16\n",
    "loss_threshold = 0.5 #no scaler"
   ]
  },
  {
   "cell_type": "code",
   "execution_count": 37,
   "metadata": {
    "colab": {},
    "colab_type": "code",
    "id": "ck6JZo_pe1ts"
   },
   "outputs": [],
   "source": [
    "from tensorflow.keras.callbacks import Callback\n",
    "class EarlyStoppingByLossVal(Callback):\n",
    "    def __init__(self, monitor='val_loss', value=0.5, verbose=0):\n",
    "        super(Callback, self).__init__()\n",
    "        self.monitor = monitor\n",
    "        self.value = value\n",
    "        self.verbose = verbose\n",
    "\n",
    "    def on_epoch_end(self, epoch, logs={}):\n",
    "        current = logs.get(self.monitor)\n",
    "        if current is None:\n",
    "            warnings.warn(\"Early stopping requires %s available!\" % self.monitor, RuntimeWarning)\n",
    "\n",
    "        if current < self.value:\n",
    "            if self.verbose > 0:\n",
    "                print(\"Epoch %05d: early stopping THR\" % epoch)\n",
    "            self.model.stop_training = True"
   ]
  },
  {
   "cell_type": "code",
   "execution_count": 38,
   "metadata": {
    "cellView": "both",
    "colab": {},
    "colab_type": "code",
    "id": "mj1majvNM3H_"
   },
   "outputs": [],
   "source": [
    "#dt_dir_name= \"C:/Users/MoNguyen/Desktop/Mo/sample_data/ml-100k/\"\n",
    "\n",
    "dt_dir_name= \"C:/Users/thinguyen/Desktop/PhD_2020/Python Code/GNN/Mo/sample_data/ml-100k\""
   ]
  },
  {
   "cell_type": "code",
   "execution_count": 39,
   "metadata": {
    "colab": {
     "base_uri": "https://localhost:8080/",
     "height": 68
    },
    "colab_type": "code",
    "id": "rQsKDMEHSl4K",
    "outputId": "6db525d8-c572-40c3-a000-bdcd269b3e32"
   },
   "outputs": [],
   "source": [
    "#dataset = pd.read_csv(dt_dir_name+\"/u.data\",sep='\\t',names=\"user_id,item_id,rating,timestamp\".split(\",\"))\n",
    "#dataset = pd.read_csv(dt_dir_name +'/'+ 'ratings.dat', delimiter='\\:\\:', names=['user_id', 'item_id', 'rating', 'timestamp'])\n",
    "dataset = pd.read_csv(dt_dir_name +'/'+ 'implicit_rating.csv', usecols=[0,1,2,3],names=['user_id', 'item_id', 'rating', 'timestamp'])\n",
    "\n"
   ]
  },
  {
   "cell_type": "code",
   "execution_count": 40,
   "metadata": {
    "colab": {
     "base_uri": "https://localhost:8080/",
     "height": 34
    },
    "colab_type": "code",
    "id": "QtzmUk7oHPyJ",
    "outputId": "f9a0e6b8-f876-43ae-fdd0-5ccdc65a2407"
   },
   "outputs": [
    {
     "data": {
      "text/plain": [
       "(943, 1682)"
      ]
     },
     "execution_count": 40,
     "metadata": {},
     "output_type": "execute_result"
    }
   ],
   "source": [
    "len(dataset.user_id.unique()), len(dataset.item_id.unique())"
   ]
  },
  {
   "cell_type": "markdown",
   "metadata": {
    "colab_type": "text",
    "id": "-dVgDEE9IPyl"
   },
   "source": [
    "We assign a unique number between (0, #users) to each user and do the same for movies.\n"
   ]
  },
  {
   "cell_type": "code",
   "execution_count": 41,
   "metadata": {
    "colab": {},
    "colab_type": "code",
    "id": "mdMvvq9MJh8u"
   },
   "outputs": [],
   "source": [
    "dataset.user_id = dataset.user_id.astype('category').cat.codes.values\n",
    "dataset.item_id = dataset.item_id.astype('category').cat.codes.values"
   ]
  },
  {
   "cell_type": "code",
   "execution_count": 42,
   "metadata": {
    "colab": {
     "base_uri": "https://localhost:8080/",
     "height": 204
    },
    "colab_type": "code",
    "id": "f-Z8pG9SchF3",
    "outputId": "949efe21-6ac6-40fc-8536-63de91333dc6"
   },
   "outputs": [
    {
     "data": {
      "text/html": [
       "<div>\n",
       "<style scoped>\n",
       "    .dataframe tbody tr th:only-of-type {\n",
       "        vertical-align: middle;\n",
       "    }\n",
       "\n",
       "    .dataframe tbody tr th {\n",
       "        vertical-align: top;\n",
       "    }\n",
       "\n",
       "    .dataframe thead th {\n",
       "        text-align: right;\n",
       "    }\n",
       "</style>\n",
       "<table border=\"1\" class=\"dataframe\">\n",
       "  <thead>\n",
       "    <tr style=\"text-align: right;\">\n",
       "      <th></th>\n",
       "      <th>user_id</th>\n",
       "      <th>item_id</th>\n",
       "      <th>rating</th>\n",
       "      <th>timestamp</th>\n",
       "    </tr>\n",
       "  </thead>\n",
       "  <tbody>\n",
       "    <tr>\n",
       "      <th>0</th>\n",
       "      <td>195</td>\n",
       "      <td>241</td>\n",
       "      <td>1</td>\n",
       "      <td>881250949</td>\n",
       "    </tr>\n",
       "    <tr>\n",
       "      <th>1</th>\n",
       "      <td>185</td>\n",
       "      <td>301</td>\n",
       "      <td>1</td>\n",
       "      <td>891717742</td>\n",
       "    </tr>\n",
       "    <tr>\n",
       "      <th>2</th>\n",
       "      <td>21</td>\n",
       "      <td>376</td>\n",
       "      <td>1</td>\n",
       "      <td>878887116</td>\n",
       "    </tr>\n",
       "    <tr>\n",
       "      <th>3</th>\n",
       "      <td>243</td>\n",
       "      <td>50</td>\n",
       "      <td>1</td>\n",
       "      <td>880606923</td>\n",
       "    </tr>\n",
       "    <tr>\n",
       "      <th>4</th>\n",
       "      <td>165</td>\n",
       "      <td>345</td>\n",
       "      <td>1</td>\n",
       "      <td>886397596</td>\n",
       "    </tr>\n",
       "  </tbody>\n",
       "</table>\n",
       "</div>"
      ],
      "text/plain": [
       "   user_id  item_id  rating  timestamp\n",
       "0      195      241       1  881250949\n",
       "1      185      301       1  891717742\n",
       "2       21      376       1  878887116\n",
       "3      243       50       1  880606923\n",
       "4      165      345       1  886397596"
      ]
     },
     "execution_count": 42,
     "metadata": {},
     "output_type": "execute_result"
    }
   ],
   "source": [
    "dataset.head()"
   ]
  },
  {
   "cell_type": "code",
   "execution_count": 43,
   "metadata": {
    "colab": {},
    "colab_type": "code",
    "id": "Etk0iGICaydM"
   },
   "outputs": [],
   "source": [
    "# from sklearn.preprocessing import MinMaxScaler\n",
    "# scaler = MinMaxScaler()\n",
    "# dataset.rating = scaler.fit_transform(dataset[['rating']])"
   ]
  },
  {
   "cell_type": "markdown",
   "metadata": {
    "colab_type": "text",
    "id": "xv9sGVkCPeZf"
   },
   "source": [
    "##Create train, test, val set"
   ]
  },
  {
   "cell_type": "code",
   "execution_count": 44,
   "metadata": {
    "colab": {},
    "colab_type": "code",
    "id": "HYxI9uKCQ9Gl"
   },
   "outputs": [],
   "source": [
    "#Version 1.2 (flexible + superfast negative sampling uniform)\n",
    "import random\n",
    "import time\n",
    "import scipy\n",
    "\n",
    "def neg_sampling(ratings_df, n_neg=1, neg_val=0, pos_val=1, percent_print=5):\n",
    "  \"\"\"version 1.2: 1 positive 1 neg (2 times bigger than the original dataset by default)\n",
    "\n",
    "    Parameters:\n",
    "    input rating data as pandas dataframe: userId|movieId|rating\n",
    "    n_neg: include n_negative / 1 positive\n",
    "\n",
    "    Returns:\n",
    "    negative sampled set as pandas dataframe\n",
    "            userId|movieId|interact (implicit)\n",
    "  \"\"\"\n",
    "  sparse_mat = scipy.sparse.coo_matrix((ratings_df.rating, (ratings_df.user_id, ratings_df.item_id)))\n",
    "  dense_mat = np.asarray(sparse_mat.todense())\n",
    "  print(dense_mat.shape)\n",
    "\n",
    "  nsamples = ratings_df[['user_id', 'item_id']]\n",
    "  nsamples['rating'] = nsamples.apply(lambda row: 1, axis=1)\n",
    "  length = dense_mat.shape[0]\n",
    "  printpc = int(length * percent_print/100)\n",
    "\n",
    "  nTempData = []\n",
    "  i = 0\n",
    "  start_time = time.time()\n",
    "  stop_time = time.time()\n",
    "\n",
    "  extra_samples = 0\n",
    "  for row in dense_mat:\n",
    "    if(i%printpc==0):\n",
    "      stop_time = time.time()\n",
    "      print(\"processed ... {0:0.2f}% ...{1:0.2f}secs\".format(float(i)*100 / length, stop_time - start_time))\n",
    "      start_time = stop_time\n",
    "\n",
    "    n_non_0 = len(np.nonzero(row)[0])\n",
    "    zero_indices = np.where(row==0)[0]\n",
    "    if(n_non_0 * n_neg + extra_samples > len(zero_indices)):\n",
    "      print(i, \"non 0:\", n_non_0,\": len \",len(zero_indices))\n",
    "      neg_indices = zero_indices.tolist()\n",
    "      extra_samples = n_non_0 * n_neg + extra_samples - len(zero_indices)\n",
    "    else:\n",
    "      neg_indices = random.sample(zero_indices.tolist(), n_non_0 * n_neg + extra_samples)\n",
    "      extra_samples = 0\n",
    "\n",
    "    nTempData.extend([(uu, ii, rr) for (uu, ii, rr) in zip(np.repeat(i, len(neg_indices))\n",
    "                    , neg_indices, np.repeat(neg_val, len(neg_indices)))])\n",
    "    i+=1\n",
    "\n",
    "  nsamples=nsamples.append(pd.DataFrame(nTempData, columns=[\"user_id\",\"item_id\", \"rating\"]),ignore_index=True)\n",
    "  nsamples.reset_index(drop=True)\n",
    "  return nsamples"
   ]
  },
  {
   "cell_type": "code",
   "execution_count": 45,
   "metadata": {
    "colab": {
     "base_uri": "https://localhost:8080/",
     "height": 204
    },
    "colab_type": "code",
    "id": "57rSnRj5JnnI",
    "outputId": "6fe4f682-ef2f-4aea-9a5a-bc09ee852ecd"
   },
   "outputs": [
    {
     "data": {
      "text/html": [
       "<div>\n",
       "<style scoped>\n",
       "    .dataframe tbody tr th:only-of-type {\n",
       "        vertical-align: middle;\n",
       "    }\n",
       "\n",
       "    .dataframe tbody tr th {\n",
       "        vertical-align: top;\n",
       "    }\n",
       "\n",
       "    .dataframe thead th {\n",
       "        text-align: right;\n",
       "    }\n",
       "</style>\n",
       "<table border=\"1\" class=\"dataframe\">\n",
       "  <thead>\n",
       "    <tr style=\"text-align: right;\">\n",
       "      <th></th>\n",
       "      <th>user_id</th>\n",
       "      <th>item_id</th>\n",
       "      <th>rating</th>\n",
       "      <th>timestamp</th>\n",
       "    </tr>\n",
       "  </thead>\n",
       "  <tbody>\n",
       "    <tr>\n",
       "      <th>0</th>\n",
       "      <td>195</td>\n",
       "      <td>241</td>\n",
       "      <td>1</td>\n",
       "      <td>881250949</td>\n",
       "    </tr>\n",
       "    <tr>\n",
       "      <th>1</th>\n",
       "      <td>185</td>\n",
       "      <td>301</td>\n",
       "      <td>1</td>\n",
       "      <td>891717742</td>\n",
       "    </tr>\n",
       "    <tr>\n",
       "      <th>2</th>\n",
       "      <td>21</td>\n",
       "      <td>376</td>\n",
       "      <td>1</td>\n",
       "      <td>878887116</td>\n",
       "    </tr>\n",
       "    <tr>\n",
       "      <th>3</th>\n",
       "      <td>243</td>\n",
       "      <td>50</td>\n",
       "      <td>1</td>\n",
       "      <td>880606923</td>\n",
       "    </tr>\n",
       "    <tr>\n",
       "      <th>4</th>\n",
       "      <td>165</td>\n",
       "      <td>345</td>\n",
       "      <td>1</td>\n",
       "      <td>886397596</td>\n",
       "    </tr>\n",
       "  </tbody>\n",
       "</table>\n",
       "</div>"
      ],
      "text/plain": [
       "   user_id  item_id  rating  timestamp\n",
       "0      195      241       1  881250949\n",
       "1      185      301       1  891717742\n",
       "2       21      376       1  878887116\n",
       "3      243       50       1  880606923\n",
       "4      165      345       1  886397596"
      ]
     },
     "execution_count": 45,
     "metadata": {},
     "output_type": "execute_result"
    }
   ],
   "source": [
    "dataset.head()"
   ]
  },
  {
   "cell_type": "code",
   "execution_count": 46,
   "metadata": {
    "colab": {
     "base_uri": "https://localhost:8080/",
     "height": 391
    },
    "colab_type": "code",
    "id": "y_14eDLzQ5tY",
    "outputId": "b6069c0f-2baa-4af0-a06a-b641661decb6"
   },
   "outputs": [
    {
     "name": "stdout",
     "output_type": "stream",
     "text": [
      "(943, 1682)\n",
      "processed ... 0.00% ...0.00secs\n",
      "processed ... 4.98% ...0.03secs\n",
      "processed ... 9.97% ...0.02secs\n",
      "processed ... 14.95% ...0.02secs\n",
      "processed ... 19.94% ...0.02secs\n",
      "processed ... 24.92% ...0.02secs\n",
      "processed ... 29.90% ...0.02secs\n",
      "processed ... 34.89% ...0.02secs\n",
      "processed ... 39.87% ...0.00secs\n",
      "processed ... 44.86% ...0.02secs\n",
      "processed ... 49.84% ...0.02secs\n",
      "processed ... 54.83% ...0.00secs\n",
      "processed ... 59.81% ...0.00secs\n",
      "processed ... 64.79% ...0.02secs\n",
      "processed ... 69.78% ...0.02secs\n",
      "processed ... 74.76% ...0.00secs\n",
      "processed ... 79.75% ...0.02secs\n",
      "processed ... 84.73% ...0.00secs\n",
      "processed ... 89.71% ...0.02secs\n",
      "processed ... 94.70% ...0.00secs\n",
      "processed ... 99.68% ...0.02secs\n"
     ]
    }
   ],
   "source": [
    "neg_dataset = neg_sampling(dataset)\n",
    "\n",
    "\n",
    "train, test = train_test_split(neg_dataset, test_size=0.2, random_state=2020)\n",
    "train, val = train_test_split(train, test_size=0.2, random_state=2020)\n",
    "\n",
    "# train.reset_index(inplace=True, drop=True)\n",
    "# test.reset_index(inplace=True, drop=True)\n",
    "# val.reset_index(inplace=True, drop=True)"
   ]
  },
  {
   "cell_type": "markdown",
   "metadata": {
    "colab_type": "text",
    "id": "i9xgsQVDn9Or"
   },
   "source": [
    "One popular recommender systems approach is called Matrix Factorisation. It works on the principle that we can learn a low-dimensional representation (embedding) of user and movie. For example, for each movie, we can have how much action it has, how long it is, and so on. For each user, we can encode how much they like action, or how much they like long movies, etc. Thus, we can combine the user and the movie embeddings to estimate the ratings on unseen movies. This approach can also be viewed as: given a matrix (A [M X N]) containing users and movies, we want to estimate low dimensional matrices (W [M X k] and H [M X k]), such that: $A≈W.HT$"
   ]
  },
  {
   "cell_type": "code",
   "execution_count": 47,
   "metadata": {
    "colab": {},
    "colab_type": "code",
    "id": "YqaiwFjg0XhQ"
   },
   "outputs": [],
   "source": [
    "#tensorflow_version 2.x\n",
    "import tensorflow as tf\n",
    "from tensorflow import keras\n",
    "from tensorflow.keras import Model\n",
    "from tensorflow.keras.layers import Input, Dense, Concatenate, Embedding, Dropout, BatchNormalization\n",
    "from tensorflow.keras.optimizers import Adam\n",
    "from tensorflow.keras.utils import Sequence\n",
    "from tensorflow.keras.regularizers import l2, l1, l1_l2\n",
    "import math\n"
   ]
  },
  {
   "cell_type": "markdown",
   "metadata": {
    "colab_type": "text",
    "id": "Bwi9qP5wq1Xx"
   },
   "source": [
    "#Create MF model using Keras"
   ]
  },
  {
   "cell_type": "code",
   "execution_count": 48,
   "metadata": {
    "colab": {},
    "colab_type": "code",
    "id": "htOy9wHGfRY_"
   },
   "outputs": [],
   "source": [
    "\n",
    "# l1=1e-5\n",
    "# l2=1e-4"
   ]
  },
  {
   "cell_type": "code",
   "execution_count": 49,
   "metadata": {
    "colab": {},
    "colab_type": "code",
    "id": "tS5pCCJD4CKu"
   },
   "outputs": [],
   "source": [
    "def create_model(dataset, n_latent_factors = 16, learning_rate=0.1,regu=1e-6):\n",
    "#def create_model(dataset, n_latent_factors=16):\n",
    "  n_users, n_movies = len(dataset.user_id.unique()), len(dataset.item_id.unique())\n",
    "  movie_input = keras.layers.Input(shape=[1],name='Item')\n",
    "  movie_embedding = keras.layers.Embedding(n_movies, n_latent_factors, \n",
    "                                          embeddings_initializer=embedding_init, \n",
    "                                          embeddings_regularizer=l2(regu), \n",
    "                                          embeddings_constraint='NonNeg',\n",
    "                                          name='Movie-Embedding')(movie_input)\n",
    "  movie_vec = keras.layers.Flatten(name='FlattenMovies')(movie_embedding)\n",
    "\n",
    "  user_input = keras.layers.Input(shape=[1],name='User')\n",
    "  user_embedding = keras.layers.Embedding(n_users, n_latent_factors, \n",
    "                                          embeddings_initializer=embedding_init, \n",
    "                                          embeddings_regularizer=l2(regu), \n",
    "                                          embeddings_constraint='NonNeg',\n",
    "                                          name='User-Embedding')(user_input)\n",
    "  user_vec = keras.layers.Flatten(name='FlattenUsers')(user_embedding)\n",
    "\n",
    "  concat = keras.layers.concatenate([movie_vec, user_vec])\n",
    "\n",
    "  mlp = concat\n",
    "  for i in range(3,-1,-1):\n",
    "    if i == 0:\n",
    "      mlp = Dense(8**i, activation='sigmoid', kernel_initializer='glorot_normal',\n",
    "                  name=\"output\")(mlp)\n",
    "    else:\n",
    "      mlp = Dense(8*2**i, activation='relu', kernel_initializer='he_uniform')(mlp)\n",
    "      if i > 2:\n",
    "        mlp = BatchNormalization()(mlp)\n",
    "        mlp = Dropout(0.2)(mlp)\n",
    "\n",
    "  model = Model(inputs=[user_input, movie_input], outputs=[mlp])\n",
    "  adam= tf.keras.optimizers.Adam(learning_rate)\n",
    "  model.compile(optimizer='adam', loss='binary_crossentropy', metrics=['binary_accuracy'])\n",
    "\n",
    "  #model.summary()\n",
    "  return model"
   ]
  },
  {
   "cell_type": "code",
   "execution_count": 22,
   "metadata": {
    "colab": {
     "base_uri": "https://localhost:8080/",
     "height": 612
    },
    "colab_type": "code",
    "id": "McVRKQOQ7IrE",
    "outputId": "d3bd04bf-e939-48c4-eda6-020a41d7bd45"
   },
   "outputs": [
    {
     "name": "stdout",
     "output_type": "stream",
     "text": [
      "Model: \"model_1\"\n",
      "__________________________________________________________________________________________________\n",
      "Layer (type)                    Output Shape         Param #     Connected to                     \n",
      "==================================================================================================\n",
      "Item (InputLayer)               [(None, 1)]          0                                            \n",
      "__________________________________________________________________________________________________\n",
      "User (InputLayer)               [(None, 1)]          0                                            \n",
      "__________________________________________________________________________________________________\n",
      "Movie-Embedding (Embedding)     (None, 1, 16)        26912       Item[0][0]                       \n",
      "__________________________________________________________________________________________________\n",
      "User-Embedding (Embedding)      (None, 1, 16)        15088       User[0][0]                       \n",
      "__________________________________________________________________________________________________\n",
      "FlattenMovies (Flatten)         (None, 16)           0           Movie-Embedding[0][0]            \n",
      "__________________________________________________________________________________________________\n",
      "FlattenUsers (Flatten)          (None, 16)           0           User-Embedding[0][0]             \n",
      "__________________________________________________________________________________________________\n",
      "concatenate_1 (Concatenate)     (None, 32)           0           FlattenMovies[0][0]              \n",
      "                                                                 FlattenUsers[0][0]               \n",
      "__________________________________________________________________________________________________\n",
      "dense_3 (Dense)                 (None, 64)           2112        concatenate_1[0][0]              \n",
      "__________________________________________________________________________________________________\n",
      "batch_normalization_1 (BatchNor (None, 64)           256         dense_3[0][0]                    \n",
      "__________________________________________________________________________________________________\n",
      "dropout_1 (Dropout)             (None, 64)           0           batch_normalization_1[0][0]      \n",
      "__________________________________________________________________________________________________\n",
      "dense_4 (Dense)                 (None, 32)           2080        dropout_1[0][0]                  \n",
      "__________________________________________________________________________________________________\n",
      "dense_5 (Dense)                 (None, 16)           528         dense_4[0][0]                    \n",
      "__________________________________________________________________________________________________\n",
      "output (Dense)                  (None, 1)            17          dense_5[0][0]                    \n",
      "==================================================================================================\n",
      "Total params: 46,993\n",
      "Trainable params: 46,865\n",
      "Non-trainable params: 128\n",
      "__________________________________________________________________________________________________\n"
     ]
    }
   ],
   "source": [
    "model = create_model(neg_dataset)"
   ]
  },
  {
   "cell_type": "code",
   "execution_count": 23,
   "metadata": {
    "colab": {
     "base_uri": "https://localhost:8080/",
     "height": 1000
    },
    "colab_type": "code",
    "id": "rzhUciu_aadj",
    "outputId": "68df974b-f2ac-4602-ee57-d7f81b4c5f63"
   },
   "outputs": [
    {
     "data": {
      "image/png": "[encoded data removed]",
      "text/plain": [
       "<IPython.core.display.Image object>"
      ]
     },
     "execution_count": 23,
     "metadata": {},
     "output_type": "execute_result"
    }
   ],
   "source": [
    "tf.keras.utils.plot_model(model, to_file= (model_name+\".png\") , show_shapes=True)"
   ]
  },
  {
   "cell_type": "code",
   "execution_count": 24,
   "metadata": {
    "colab": {},
    "colab_type": "code",
    "id": "jSvJ_8NX5_nc"
   },
   "outputs": [],
   "source": [
    "#SVG(model_to_dot(model,  show_shapes=True, show_layer_names=True, rankdir='HB').create(prog='dot', format='svg'))"
   ]
  },
  {
   "cell_type": "markdown",
   "metadata": {
    "colab_type": "text",
    "id": "KWFIEuywrj_z"
   },
   "source": [
    "##Create data generator class\n",
    "\n",
    "The class generate the sample for training dynamically"
   ]
  },
  {
   "cell_type": "code",
   "execution_count": 50,
   "metadata": {
    "colab": {},
    "colab_type": "code",
    "id": "ciQUP_SNreJB"
   },
   "outputs": [],
   "source": [
    "class DataGenerator(Sequence):\n",
    "    def __init__(self, dataframe, batch_size=16, shuffle=True):\n",
    "        'Initialization'\n",
    "        self.batch_size = batch_size\n",
    "        self.dataframe = dataframe\n",
    "        self.shuffle = shuffle\n",
    "        self.indices = dataframe.index\n",
    "        print(len(self.indices))\n",
    "        self.on_epoch_end()\n",
    "\n",
    "    def __len__(self):\n",
    "        'Denotes the number of batches per epoch'\n",
    "        return math.floor(len(self.dataframe) / self.batch_size)\n",
    "\n",
    "    def __getitem__(self, index):\n",
    "        'Generate one batch of data'\n",
    "        # Generate indexes of the batch\n",
    "        idxs = [i for i in range(index*self.batch_size,(index+1)*self.batch_size)]\n",
    "        #print(idxs)\n",
    "        # Find list of IDs\n",
    "        list_IDs_temp = [self.indices[k] for k in idxs]\n",
    "\n",
    "        # Generate data\n",
    "        User = self.dataframe.iloc[list_IDs_temp,[0]].to_numpy().reshape(-1)\n",
    "        Item = self.dataframe.iloc[list_IDs_temp,[1]].to_numpy().reshape(-1)\n",
    "        rating = self.dataframe.iloc[list_IDs_temp,[2]].to_numpy().reshape(-1)\n",
    "        #print(\"u,i,r:\", [User, Item],[y])\n",
    "        return [User, Item],[rating]\n",
    "\n",
    "    def on_epoch_end(self):\n",
    "        'Updates indexes after each epoch'\n",
    "        self.indices = np.arange(len(self.dataframe))\n",
    "        if self.shuffle == True:\n",
    "            np.random.shuffle(self.indices)\n"
   ]
  },
  {
   "cell_type": "markdown",
   "metadata": {
    "colab_type": "text",
    "id": "_3v3DxwurAKb"
   },
   "source": [
    "##Trainging the model (2 options)\n",
    "\n",
    " - Normal fit\n",
    " - Fit generator"
   ]
  },
  {
   "cell_type": "code",
   "execution_count": 51,
   "metadata": {},
   "outputs": [],
   "source": [
    "import easydict\n",
    "args = easydict.EasyDict({\n",
    "        \"hidden_factors\": [8,16,32,64],\n",
    "        'batch':[128,256,512,1024],\n",
    "        'regularizer': [1e-4,1e-6,1e-8],\n",
    "        'lr':[0.0001 ,0.0005, 0.001, 0.005],\n",
    "    })   "
   ]
  },
  {
   "cell_type": "code",
   "execution_count": 30,
   "metadata": {},
   "outputs": [],
   "source": [
    "model1=create_model(neg_dataset,args.hidden_factors[0], args.lr[0], args.regularizer[0])"
   ]
  },
  {
   "cell_type": "code",
   "execution_count": 52,
   "metadata": {},
   "outputs": [
    {
     "name": "stdout",
     "output_type": "stream",
     "text": [
      "128000\n",
      "RESULT: lr= 0.0001 regularization= 0.0001  batch= 128 hidden factors= 8 [0.4718800699653104, 0.8108]\n",
      "128000\n",
      "RESULT: lr= 0.0001 regularization= 1e-06  batch= 128 hidden factors= 8 [0.5579856108203995, 0.80845]\n",
      "128000\n",
      "RESULT: lr= 0.0001 regularization= 1e-08  batch= 128 hidden factors= 8 [0.5750119206009218, 0.80735]\n",
      "128000\n",
      "RESULT: lr= 0.0001 regularization= 0.0001  batch= 128 hidden factors= 16 [0.5272340418915265, 0.812175]\n",
      "128000\n",
      "RESULT: lr= 0.0001 regularization= 1e-06  batch= 128 hidden factors= 16 [0.6821898916387464, 0.7964]\n",
      "128000\n",
      "RESULT: lr= 0.0001 regularization= 1e-08  batch= 128 hidden factors= 16 [0.704890092102955, 0.801575]\n",
      "128000\n",
      "RESULT: lr= 0.0001 regularization= 0.0001  batch= 128 hidden factors= 32 [0.5832373474067077, 0.807375]\n",
      "128000\n",
      "RESULT: lr= 0.0001 regularization= 1e-06  batch= 128 hidden factors= 32 [0.7558511258920189, 0.803675]\n",
      "128000\n",
      "RESULT: lr= 0.0001 regularization= 1e-08  batch= 128 hidden factors= 32 [0.8025701276193947, 0.8012]\n",
      "128000\n",
      "RESULT: lr= 0.0001 regularization= 0.0001  batch= 128 hidden factors= 64 [0.5773339745424688, 0.811275]\n",
      "128000\n",
      "RESULT: lr= 0.0001 regularization= 1e-06  batch= 128 hidden factors= 64 [0.8366518265443388, 0.797775]\n",
      "128000\n",
      "RESULT: lr= 0.0001 regularization= 1e-08  batch= 128 hidden factors= 64 [0.8429104282800239, 0.803025]\n",
      "128000\n",
      "RESULT: lr= 0.0001 regularization= 0.0001  batch= 256 hidden factors= 8 [0.4930612084706314, 0.81095]\n",
      "128000\n",
      "RESULT: lr= 0.0001 regularization= 1e-06  batch= 256 hidden factors= 8 [0.591508435223106, 0.8043]\n",
      "128000\n",
      "RESULT: lr= 0.0001 regularization= 1e-08  batch= 256 hidden factors= 8 [0.612816322559821, 0.807025]\n",
      "128000\n",
      "RESULT: lr= 0.0001 regularization= 0.0001  batch= 256 hidden factors= 16 [0.5769401941611432, 0.8088]\n",
      "128000\n",
      "RESULT: lr= 0.0001 regularization= 1e-06  batch= 256 hidden factors= 16 [0.6743524138197419, 0.802725]\n",
      "128000\n",
      "RESULT: lr= 0.0001 regularization= 1e-08  batch= 256 hidden factors= 16 [0.7001024799847169, 0.80175]\n",
      "128000\n",
      "RESULT: lr= 0.0001 regularization= 0.0001  batch= 256 hidden factors= 32 [0.6306183538924902, 0.807125]\n",
      "128000\n",
      "RESULT: lr= 0.0001 regularization= 1e-06  batch= 256 hidden factors= 32 [0.8585083174038213, 0.79755]\n",
      "128000\n",
      "RESULT: lr= 0.0001 regularization= 1e-08  batch= 256 hidden factors= 32 [0.8267284526689113, 0.8027]\n",
      "128000\n",
      "RESULT: lr= 0.0001 regularization= 0.0001  batch= 256 hidden factors= 64 [0.6799734709693119, 0.80585]\n",
      "128000\n",
      "RESULT: lr= 0.0001 regularization= 1e-06  batch= 256 hidden factors= 64 [0.8938810020768083, 0.80285]\n",
      "128000\n",
      "RESULT: lr= 0.0001 regularization= 1e-08  batch= 256 hidden factors= 64 [0.9255355604637614, 0.80035]\n",
      "128000\n",
      "RESULT: lr= 0.0001 regularization= 0.0001  batch= 512 hidden factors= 8 [0.5301286309470888, 0.807775]\n",
      "128000\n",
      "RESULT: lr= 0.0001 regularization= 1e-06  batch= 512 hidden factors= 8 [0.5848077538425569, 0.804375]\n",
      "128000\n",
      "RESULT: lr= 0.0001 regularization= 1e-08  batch= 512 hidden factors= 8 [0.6203189746984668, 0.806425]\n",
      "128000\n",
      "RESULT: lr= 0.0001 regularization= 0.0001  batch= 512 hidden factors= 16 [0.6045685125247575, 0.801125]\n",
      "128000\n",
      "RESULT: lr= 0.0001 regularization= 1e-06  batch= 512 hidden factors= 16 [0.7148037720541761, 0.8039]\n",
      "128000\n",
      "RESULT: lr= 0.0001 regularization= 1e-08  batch= 512 hidden factors= 16 [0.7357745112033501, 0.79995]\n",
      "128000\n",
      "RESULT: lr= 0.0001 regularization= 0.0001  batch= 512 hidden factors= 32 [0.7127705969864503, 0.8057]\n",
      "128000\n",
      "RESULT: lr= 0.0001 regularization= 1e-06  batch= 512 hidden factors= 32 [0.8804789427583455, 0.801225]\n",
      "128000\n",
      "RESULT: lr= 0.0001 regularization= 1e-08  batch= 512 hidden factors= 32 [0.8300739178073081, 0.80465]\n",
      "128000\n",
      "RESULT: lr= 0.0001 regularization= 0.0001  batch= 512 hidden factors= 64 [0.7223442323112861, 0.801575]\n",
      "128000\n",
      "RESULT: lr= 0.0001 regularization= 1e-06  batch= 512 hidden factors= 64 [0.9172731333411415, 0.80115]\n",
      "128000\n",
      "RESULT: lr= 0.0001 regularization= 1e-08  batch= 512 hidden factors= 64 [0.9907972223209592, 0.8015]\n",
      "128000\n",
      "RESULT: lr= 0.0001 regularization= 0.0001  batch= 1024 hidden factors= 8 [0.580731128036743, 0.809025]\n",
      "128000\n",
      "RESULT: lr= 0.0001 regularization= 1e-06  batch= 1024 hidden factors= 8 [0.5780355812699447, 0.80145]\n",
      "128000\n",
      "RESULT: lr= 0.0001 regularization= 1e-08  batch= 1024 hidden factors= 8 [0.6337162423427318, 0.80465]\n",
      "128000\n",
      "RESULT: lr= 0.0001 regularization= 0.0001  batch= 1024 hidden factors= 16 [0.6346738169704564, 0.803025]\n",
      "128000\n",
      "RESULT: lr= 0.0001 regularization= 1e-06  batch= 1024 hidden factors= 16 [0.7034991353971185, 0.80025]\n",
      "128000\n",
      "RESULT: lr= 0.0001 regularization= 1e-08  batch= 1024 hidden factors= 16 [0.735873331692646, 0.802825]\n",
      "128000\n",
      "RESULT: lr= 0.0001 regularization= 0.0001  batch= 1024 hidden factors= 32 [0.715319732393045, 0.80415]\n",
      "128000\n",
      "RESULT: lr= 0.0001 regularization= 1e-06  batch= 1024 hidden factors= 32 [0.8386371106786188, 0.80215]\n",
      "128000\n",
      "RESULT: lr= 0.0001 regularization= 1e-08  batch= 1024 hidden factors= 32 [0.8416816391943057, 0.797275]\n",
      "128000\n",
      "RESULT: lr= 0.0001 regularization= 0.0001  batch= 1024 hidden factors= 64 [0.8313046601181849, 0.8011]\n",
      "128000\n",
      "RESULT: lr= 0.0001 regularization= 1e-06  batch= 1024 hidden factors= 64 [0.9536875132981455, 0.800725]\n",
      "128000\n",
      "RESULT: lr= 0.0001 regularization= 1e-08  batch= 1024 hidden factors= 64 [0.9598524967276668, 0.801975]\n",
      "128000\n",
      "RESULT: lr= 0.0005 regularization= 0.0001  batch= 128 hidden factors= 8 [0.46172749636042865, 0.81825]\n",
      "128000\n",
      "RESULT: lr= 0.0005 regularization= 1e-06  batch= 128 hidden factors= 8 [0.5627890362831997, 0.803925]\n",
      "128000\n",
      "RESULT: lr= 0.0005 regularization= 1e-08  batch= 128 hidden factors= 8 [0.580160624545813, 0.8045]\n",
      "128000\n",
      "RESULT: lr= 0.0005 regularization= 0.0001  batch= 128 hidden factors= 16 [0.5270203704144806, 0.812075]\n",
      "128000\n",
      "RESULT: lr= 0.0005 regularization= 1e-06  batch= 128 hidden factors= 16 [0.6970043219426181, 0.8011]\n",
      "128000\n",
      "RESULT: lr= 0.0005 regularization= 1e-08  batch= 128 hidden factors= 16 [0.7101405217034499, 0.79865]\n",
      "128000\n",
      "RESULT: lr= 0.0005 regularization= 0.0001  batch= 128 hidden factors= 32 [0.5628279579836876, 0.8113]\n",
      "128000\n",
      "RESULT: lr= 0.0005 regularization= 1e-06  batch= 128 hidden factors= 32 [0.8019580331947888, 0.801425]\n",
      "128000\n",
      "RESULT: lr= 0.0005 regularization= 1e-08  batch= 128 hidden factors= 32 [0.8291398799368482, 0.804925]\n",
      "128000\n",
      "RESULT: lr= 0.0005 regularization= 0.0001  batch= 128 hidden factors= 64 [0.5734052383227274, 0.80965]\n",
      "128000\n",
      "RESULT: lr= 0.0005 regularization= 1e-06  batch= 128 hidden factors= 64 [0.827819080660399, 0.79935]\n",
      "128000\n",
      "RESULT: lr= 0.0005 regularization= 1e-08  batch= 128 hidden factors= 64 [0.8854921780615564, 0.8008]\n",
      "128000\n",
      "RESULT: lr= 0.0005 regularization= 0.0001  batch= 256 hidden factors= 8 [0.4905888627654873, 0.81425]\n",
      "128000\n",
      "RESULT: lr= 0.0005 regularization= 1e-06  batch= 256 hidden factors= 8 [0.5959021311782301, 0.8]\n",
      "128000\n",
      "RESULT: lr= 0.0005 regularization= 1e-08  batch= 256 hidden factors= 8 [0.6087842090014357, 0.80625]\n",
      "128000\n",
      "RESULT: lr= 0.0005 regularization= 0.0001  batch= 256 hidden factors= 16 [0.5684953531600535, 0.809775]\n",
      "128000\n",
      "RESULT: lr= 0.0005 regularization= 1e-06  batch= 256 hidden factors= 16 [0.6860429088644101, 0.802025]\n",
      "128000\n",
      "RESULT: lr= 0.0005 regularization= 1e-08  batch= 256 hidden factors= 16 [0.6941598911416228, 0.80195]\n",
      "128000\n",
      "RESULT: lr= 0.0005 regularization= 0.0001  batch= 256 hidden factors= 32 [0.6567969495281577, 0.80415]\n",
      "128000\n",
      "RESULT: lr= 0.0005 regularization= 1e-06  batch= 256 hidden factors= 32 [0.8727231240638299, 0.8012]\n",
      "128000\n",
      "RESULT: lr= 0.0005 regularization= 1e-08  batch= 256 hidden factors= 32 [0.810067829606727, 0.799325]\n",
      "128000\n",
      "RESULT: lr= 0.0005 regularization= 0.0001  batch= 256 hidden factors= 64 [0.6579394763376564, 0.80655]\n",
      "128000\n",
      "RESULT: lr= 0.0005 regularization= 1e-06  batch= 256 hidden factors= 64 [0.8901969001992606, 0.800625]\n",
      "128000\n",
      "RESULT: lr= 0.0005 regularization= 1e-08  batch= 256 hidden factors= 64 [0.8982004510339499, 0.80535]\n",
      "128000\n",
      "RESULT: lr= 0.0005 regularization= 0.0001  batch= 512 hidden factors= 8 [0.5159212451668922, 0.810725]\n",
      "128000\n",
      "RESULT: lr= 0.0005 regularization= 1e-06  batch= 512 hidden factors= 8 [0.5685399802371423, 0.801475]\n",
      "128000\n",
      "RESULT: lr= 0.0005 regularization= 1e-08  batch= 512 hidden factors= 8 [0.5841099208301239, 0.801925]\n",
      "128000\n"
     ]
    },
    {
     "name": "stdout",
     "output_type": "stream",
     "text": [
      "RESULT: lr= 0.0005 regularization= 0.0001  batch= 512 hidden factors= 16 [0.6027272992519662, 0.80765]\n",
      "128000\n",
      "RESULT: lr= 0.0005 regularization= 1e-06  batch= 512 hidden factors= 16 [0.7393308889275009, 0.8006]\n",
      "128000\n",
      "RESULT: lr= 0.0005 regularization= 1e-08  batch= 512 hidden factors= 16 [0.6947676721811021, 0.799525]\n",
      "128000\n",
      "RESULT: lr= 0.0005 regularization= 0.0001  batch= 512 hidden factors= 32 [0.7019755987212993, 0.80115]\n",
      "128000\n",
      "RESULT: lr= 0.0005 regularization= 1e-06  batch= 512 hidden factors= 32 [0.8499129550530226, 0.8008]\n",
      "128000\n",
      "RESULT: lr= 0.0005 regularization= 1e-08  batch= 512 hidden factors= 32 [0.816675409005962, 0.79875]\n",
      "128000\n",
      "RESULT: lr= 0.0005 regularization= 0.0001  batch= 512 hidden factors= 64 [0.7625977680152282, 0.803625]\n",
      "128000\n",
      "RESULT: lr= 0.0005 regularization= 1e-06  batch= 512 hidden factors= 64 [0.94093983208508, 0.80365]\n",
      "128000\n",
      "RESULT: lr= 0.0005 regularization= 1e-08  batch= 512 hidden factors= 64 [0.9520793824910541, 0.79975]\n",
      "128000\n",
      "RESULT: lr= 0.0005 regularization= 0.0001  batch= 1024 hidden factors= 8 [0.537549694489967, 0.809675]\n",
      "128000\n",
      "RESULT: lr= 0.0005 regularization= 1e-06  batch= 1024 hidden factors= 8 [0.6054675003055469, 0.806275]\n",
      "128000\n",
      "RESULT: lr= 0.0005 regularization= 1e-08  batch= 1024 hidden factors= 8 [0.6235988305798382, 0.8062]\n",
      "128000\n",
      "RESULT: lr= 0.0005 regularization= 0.0001  batch= 1024 hidden factors= 16 [0.6462987511788495, 0.801775]\n",
      "128000\n",
      "RESULT: lr= 0.0005 regularization= 1e-06  batch= 1024 hidden factors= 16 [0.6883564152350765, 0.8022]\n",
      "128000\n",
      "RESULT: lr= 0.0005 regularization= 1e-08  batch= 1024 hidden factors= 16 [0.7257401855418111, 0.80295]\n",
      "128000\n",
      "RESULT: lr= 0.0005 regularization= 0.0001  batch= 1024 hidden factors= 32 [0.7351067201031372, 0.7954]\n",
      "128000\n",
      "RESULT: lr= 0.0005 regularization= 1e-06  batch= 1024 hidden factors= 32 [0.8592739412900817, 0.796875]\n",
      "128000\n",
      "RESULT: lr= 0.0005 regularization= 1e-08  batch= 1024 hidden factors= 32 [0.8618589168250353, 0.7972]\n",
      "128000\n",
      "RESULT: lr= 0.0005 regularization= 0.0001  batch= 1024 hidden factors= 64 [0.8027623103536665, 0.8007]\n",
      "128000\n",
      "RESULT: lr= 0.0005 regularization= 1e-06  batch= 1024 hidden factors= 64 [0.94622943891295, 0.800075]\n",
      "128000\n",
      "RESULT: lr= 0.0005 regularization= 1e-08  batch= 1024 hidden factors= 64 [0.9806462888234311, 0.8006]\n",
      "128000\n",
      "RESULT: lr= 0.001 regularization= 0.0001  batch= 128 hidden factors= 8 [0.4661585512360558, 0.816]\n",
      "128000\n",
      "RESULT: lr= 0.001 regularization= 1e-06  batch= 128 hidden factors= 8 [0.5753488935927861, 0.8049]\n",
      "128000\n",
      "RESULT: lr= 0.001 regularization= 1e-08  batch= 128 hidden factors= 8 [0.579705790007282, 0.80735]\n",
      "128000\n",
      "RESULT: lr= 0.001 regularization= 0.0001  batch= 128 hidden factors= 16 [0.5284925120583736, 0.811475]\n",
      "128000\n",
      "RESULT: lr= 0.001 regularization= 1e-06  batch= 128 hidden factors= 16 [0.6809076494219946, 0.802925]\n",
      "128000\n",
      "RESULT: lr= 0.001 regularization= 1e-08  batch= 128 hidden factors= 16 [0.6720752289827476, 0.8022]\n",
      "128000\n",
      "RESULT: lr= 0.001 regularization= 0.0001  batch= 128 hidden factors= 32 [0.5680553080741316, 0.8094]\n",
      "128000\n",
      "RESULT: lr= 0.001 regularization= 1e-06  batch= 128 hidden factors= 32 [0.782322266191151, 0.80445]\n",
      "128000\n",
      "RESULT: lr= 0.001 regularization= 1e-08  batch= 128 hidden factors= 32 [0.8251156812401182, 0.800225]\n",
      "128000\n",
      "RESULT: lr= 0.001 regularization= 0.0001  batch= 128 hidden factors= 64 [0.5984047215646133, 0.808625]\n",
      "128000\n",
      "RESULT: lr= 0.001 regularization= 1e-06  batch= 128 hidden factors= 64 [0.8548892489189748, 0.79765]\n",
      "128000\n",
      "RESULT: lr= 0.001 regularization= 1e-08  batch= 128 hidden factors= 64 [0.860259497350287, 0.8018]\n",
      "128000\n",
      "RESULT: lr= 0.001 regularization= 0.0001  batch= 256 hidden factors= 8 [0.5042190404923633, 0.812425]\n",
      "128000\n",
      "RESULT: lr= 0.001 regularization= 1e-06  batch= 256 hidden factors= 8 [0.6389984326705861, 0.809025]\n",
      "128000\n",
      "RESULT: lr= 0.001 regularization= 1e-08  batch= 256 hidden factors= 8 [0.6108811131599676, 0.8029]\n",
      "128000\n",
      "RESULT: lr= 0.001 regularization= 0.0001  batch= 256 hidden factors= 16 [0.568489706784673, 0.80485]\n",
      "128000\n",
      "RESULT: lr= 0.001 regularization= 1e-06  batch= 256 hidden factors= 16 [0.6776214953049668, 0.80105]\n",
      "128000\n",
      "RESULT: lr= 0.001 regularization= 1e-08  batch= 256 hidden factors= 16 [0.7151597199833961, 0.806575]\n",
      "128000\n",
      "RESULT: lr= 0.001 regularization= 0.0001  batch= 256 hidden factors= 32 [0.6387232187977061, 0.8036]\n",
      "128000\n",
      "RESULT: lr= 0.001 regularization= 1e-06  batch= 256 hidden factors= 32 [0.8277251098295907, 0.8005]\n",
      "128000\n",
      "RESULT: lr= 0.001 regularization= 1e-08  batch= 256 hidden factors= 32 [0.8273082433738754, 0.798275]\n",
      "128000\n",
      "RESULT: lr= 0.001 regularization= 0.0001  batch= 256 hidden factors= 64 [0.681852015084587, 0.799775]\n",
      "128000\n",
      "RESULT: lr= 0.001 regularization= 1e-06  batch= 256 hidden factors= 64 [0.8700600529324496, 0.799775]\n",
      "128000\n",
      "RESULT: lr= 0.001 regularization= 1e-08  batch= 256 hidden factors= 64 [0.9521479585642759, 0.801975]\n",
      "128000\n",
      "RESULT: lr= 0.001 regularization= 0.0001  batch= 512 hidden factors= 8 [0.5116252500834875, 0.813425]\n",
      "128000\n",
      "RESULT: lr= 0.001 regularization= 1e-06  batch= 512 hidden factors= 8 [0.5928929240113823, 0.80355]\n",
      "128000\n",
      "RESULT: lr= 0.001 regularization= 1e-08  batch= 512 hidden factors= 8 [0.6224108339466214, 0.80825]\n",
      "128000\n",
      "RESULT: lr= 0.001 regularization= 0.0001  batch= 512 hidden factors= 16 [0.6070890013834461, 0.802925]\n",
      "128000\n",
      "RESULT: lr= 0.001 regularization= 1e-06  batch= 512 hidden factors= 16 [0.7258690484828665, 0.80195]\n",
      "128000\n",
      "RESULT: lr= 0.001 regularization= 1e-08  batch= 512 hidden factors= 16 [0.7346699457037528, 0.8029]\n",
      "128000\n",
      "RESULT: lr= 0.001 regularization= 0.0001  batch= 512 hidden factors= 32 [0.700202826878801, 0.7992]\n",
      "128000\n",
      "RESULT: lr= 0.001 regularization= 1e-06  batch= 512 hidden factors= 32 [0.8544558690680074, 0.80085]\n",
      "128000\n",
      "RESULT: lr= 0.001 regularization= 1e-08  batch= 512 hidden factors= 32 [0.8361014920008569, 0.796525]\n",
      "128000\n",
      "RESULT: lr= 0.001 regularization= 0.0001  batch= 512 hidden factors= 64 [0.7616314922427758, 0.799575]\n",
      "128000\n",
      "RESULT: lr= 0.001 regularization= 1e-06  batch= 512 hidden factors= 64 [0.9450476676069084, 0.800675]\n",
      "128000\n",
      "RESULT: lr= 0.001 regularization= 1e-08  batch= 512 hidden factors= 64 [0.9612669219664076, 0.805]\n",
      "128000\n",
      "RESULT: lr= 0.001 regularization= 0.0001  batch= 1024 hidden factors= 8 [0.5559711799306795, 0.807775]\n",
      "128000\n",
      "RESULT: lr= 0.001 regularization= 1e-06  batch= 1024 hidden factors= 8 [0.5958099733552182, 0.805225]\n",
      "128000\n",
      "RESULT: lr= 0.001 regularization= 1e-08  batch= 1024 hidden factors= 8 [0.5925199667613129, 0.806725]\n",
      "128000\n",
      "RESULT: lr= 0.001 regularization= 0.0001  batch= 1024 hidden factors= 16 [0.6243001621783711, 0.805475]\n",
      "128000\n",
      "RESULT: lr= 0.001 regularization= 1e-06  batch= 1024 hidden factors= 16 [0.7498518091747625, 0.801725]\n",
      "128000\n",
      "RESULT: lr= 0.001 regularization= 1e-08  batch= 1024 hidden factors= 16 [0.7171943687882469, 0.800075]\n",
      "128000\n",
      "RESULT: lr= 0.001 regularization= 0.0001  batch= 1024 hidden factors= 32 [0.7345652136858553, 0.804025]\n",
      "128000\n",
      "RESULT: lr= 0.001 regularization= 1e-06  batch= 1024 hidden factors= 32 [0.837897158253577, 0.79985]\n",
      "128000\n",
      "RESULT: lr= 0.001 regularization= 1e-08  batch= 1024 hidden factors= 32 [0.8556105303496823, 0.799925]\n",
      "128000\n",
      "RESULT: lr= 0.001 regularization= 0.0001  batch= 1024 hidden factors= 64 [0.7995892070222645, 0.8009]\n",
      "128000\n",
      "RESULT: lr= 0.001 regularization= 1e-06  batch= 1024 hidden factors= 64 [0.9953476244506891, 0.796875]\n",
      "128000\n",
      "RESULT: lr= 0.001 regularization= 1e-08  batch= 1024 hidden factors= 64 [0.9668909824481565, 0.798625]\n",
      "128000\n",
      "RESULT: lr= 0.005 regularization= 0.0001  batch= 128 hidden factors= 8 [0.4648338313710876, 0.8156]\n",
      "128000\n",
      "RESULT: lr= 0.005 regularization= 1e-06  batch= 128 hidden factors= 8 [0.5782923943470348, 0.80395]\n",
      "128000\n",
      "RESULT: lr= 0.005 regularization= 1e-08  batch= 128 hidden factors= 8 [0.5680194946341087, 0.803]\n",
      "128000\n",
      "RESULT: lr= 0.005 regularization= 0.0001  batch= 128 hidden factors= 16 [0.5335179672815837, 0.808]\n",
      "128000\n",
      "RESULT: lr= 0.005 regularization= 1e-06  batch= 128 hidden factors= 16 [0.6938252909232164, 0.8002]\n",
      "128000\n",
      "RESULT: lr= 0.005 regularization= 1e-08  batch= 128 hidden factors= 16 [0.7011001188971415, 0.8021]\n",
      "128000\n",
      "RESULT: lr= 0.005 regularization= 0.0001  batch= 128 hidden factors= 32 [0.5735248736750335, 0.8069]\n",
      "128000\n"
     ]
    },
    {
     "name": "stdout",
     "output_type": "stream",
     "text": [
      "RESULT: lr= 0.005 regularization= 1e-06  batch= 128 hidden factors= 32 [0.8092048176890239, 0.80055]\n",
      "128000\n",
      "RESULT: lr= 0.005 regularization= 1e-08  batch= 128 hidden factors= 32 [0.7988224551235195, 0.8009]\n",
      "128000\n",
      "RESULT: lr= 0.005 regularization= 0.0001  batch= 128 hidden factors= 64 [0.582207036216557, 0.81045]\n",
      "128000\n",
      "RESULT: lr= 0.005 regularization= 1e-06  batch= 128 hidden factors= 64 [0.8767403903879225, 0.800325]\n",
      "128000\n",
      "RESULT: lr= 0.005 regularization= 1e-08  batch= 128 hidden factors= 64 [0.9135181981179957, 0.802075]\n",
      "128000\n",
      "RESULT: lr= 0.005 regularization= 0.0001  batch= 256 hidden factors= 8 [0.5036814292471856, 0.8101]\n",
      "128000\n",
      "RESULT: lr= 0.005 regularization= 1e-06  batch= 256 hidden factors= 8 [0.5468206222011358, 0.8064]\n",
      "128000\n",
      "RESULT: lr= 0.005 regularization= 1e-08  batch= 256 hidden factors= 8 [0.560881880693222, 0.810775]\n",
      "128000\n",
      "RESULT: lr= 0.005 regularization= 0.0001  batch= 256 hidden factors= 16 [0.5733813085063361, 0.8048]\n",
      "128000\n",
      "RESULT: lr= 0.005 regularization= 1e-06  batch= 256 hidden factors= 16 [0.6815343362251413, 0.802325]\n",
      "128000\n",
      "RESULT: lr= 0.005 regularization= 1e-08  batch= 256 hidden factors= 16 [0.7504943391261686, 0.802625]\n",
      "128000\n",
      "RESULT: lr= 0.005 regularization= 0.0001  batch= 256 hidden factors= 32 [0.6435978377269581, 0.804825]\n",
      "128000\n",
      "RESULT: lr= 0.005 regularization= 1e-06  batch= 256 hidden factors= 32 [0.8251275861510192, 0.801075]\n",
      "128000\n",
      "RESULT: lr= 0.005 regularization= 1e-08  batch= 256 hidden factors= 32 [0.8468451680536209, 0.798825]\n",
      "128000\n",
      "RESULT: lr= 0.005 regularization= 0.0001  batch= 256 hidden factors= 64 [0.6834193277386948, 0.8027]\n",
      "128000\n",
      "RESULT: lr= 0.005 regularization= 1e-06  batch= 256 hidden factors= 64 [0.9057518117200584, 0.80245]\n",
      "128000\n",
      "RESULT: lr= 0.005 regularization= 1e-08  batch= 256 hidden factors= 64 [0.9155676432651395, 0.799575]\n",
      "128000\n",
      "RESULT: lr= 0.005 regularization= 0.0001  batch= 512 hidden factors= 8 [0.5454301310139242, 0.8098]\n",
      "128000\n",
      "RESULT: lr= 0.005 regularization= 1e-06  batch= 512 hidden factors= 8 [0.6186193336621393, 0.805475]\n",
      "128000\n",
      "RESULT: lr= 0.005 regularization= 1e-08  batch= 512 hidden factors= 8 [0.6144390786067031, 0.8066]\n",
      "128000\n",
      "RESULT: lr= 0.005 regularization= 0.0001  batch= 512 hidden factors= 16 [0.594597077923175, 0.8037]\n",
      "128000\n",
      "RESULT: lr= 0.005 regularization= 1e-06  batch= 512 hidden factors= 16 [0.762589523071237, 0.80385]\n",
      "128000\n",
      "RESULT: lr= 0.005 regularization= 1e-08  batch= 512 hidden factors= 16 [0.7591201678437947, 0.8018]\n",
      "128000\n",
      "RESULT: lr= 0.005 regularization= 0.0001  batch= 512 hidden factors= 32 [0.6907898617208935, 0.80285]\n",
      "128000\n",
      "RESULT: lr= 0.005 regularization= 1e-06  batch= 512 hidden factors= 32 [0.8461800815138966, 0.80045]\n",
      "128000\n",
      "RESULT: lr= 0.005 regularization= 1e-08  batch= 512 hidden factors= 32 [0.8423244470075417, 0.802925]\n",
      "128000\n",
      "RESULT: lr= 0.005 regularization= 0.0001  batch= 512 hidden factors= 64 [0.7481399681938812, 0.8044]\n",
      "128000\n",
      "RESULT: lr= 0.005 regularization= 1e-06  batch= 512 hidden factors= 64 [0.9726700916418224, 0.800225]\n",
      "128000\n",
      "RESULT: lr= 0.005 regularization= 1e-08  batch= 512 hidden factors= 64 [0.9297854163896165, 0.798275]\n",
      "128000\n",
      "RESULT: lr= 0.005 regularization= 0.0001  batch= 1024 hidden factors= 8 [0.5395175037345848, 0.807725]\n",
      "128000\n",
      "RESULT: lr= 0.005 regularization= 1e-06  batch= 1024 hidden factors= 8 [0.5972037084064825, 0.8055]\n",
      "128000\n",
      "RESULT: lr= 0.005 regularization= 1e-08  batch= 1024 hidden factors= 8 [0.5853287618153399, 0.804825]\n",
      "128000\n",
      "RESULT: lr= 0.005 regularization= 0.0001  batch= 1024 hidden factors= 16 [0.6388055044938811, 0.802075]\n",
      "128000\n",
      "RESULT: lr= 0.005 regularization= 1e-06  batch= 1024 hidden factors= 16 [0.7148763270236698, 0.800375]\n",
      "128000\n",
      "RESULT: lr= 0.005 regularization= 1e-08  batch= 1024 hidden factors= 16 [0.6899063746803117, 0.80205]\n",
      "128000\n",
      "RESULT: lr= 0.005 regularization= 0.0001  batch= 1024 hidden factors= 32 [0.7362594315600581, 0.80245]\n",
      "128000\n",
      "RESULT: lr= 0.005 regularization= 1e-06  batch= 1024 hidden factors= 32 [0.8436337793424901, 0.795425]\n",
      "128000\n",
      "RESULT: lr= 0.005 regularization= 1e-08  batch= 1024 hidden factors= 32 [0.8383124548551656, 0.7964]\n",
      "128000\n",
      "RESULT: lr= 0.005 regularization= 0.0001  batch= 1024 hidden factors= 64 [0.8020779367014765, 0.797625]\n",
      "128000\n",
      "RESULT: lr= 0.005 regularization= 1e-06  batch= 1024 hidden factors= 64 [0.9357041944945463, 0.7978]\n",
      "128000\n",
      "RESULT: lr= 0.005 regularization= 1e-08  batch= 1024 hidden factors= 64 [0.9633408633363164, 0.799575]\n"
     ]
    }
   ],
   "source": [
    "\n",
    "for i in args.lr:\n",
    "    for j in args.batch:\n",
    "        for k in args.hidden_factors:\n",
    "            for l in args.regularizer:\n",
    "                model1=create_model(neg_dataset,k, i,l)\n",
    "                train_generator = DataGenerator(train, batch_size=j, shuffle=False)\n",
    "                history = model1.fit(train_generator, epochs=200,verbose=0)\n",
    "                results = model1.evaluate((test.user_id, test.item_id), test.rating, batch_size=1, verbose=0)\n",
    "                print('RESULT: lr=',i, 'regularization=',l, ' batch=', j, 'hidden factors=', k, results)"
   ]
  },
  {
   "cell_type": "code",
   "execution_count": 21,
   "metadata": {
    "colab": {},
    "colab_type": "code",
    "id": "BiCP_zg97ZBO"
   },
   "outputs": [],
   "source": [
    "#1 Normal training with fit method (uncomment to run)\n",
    "\n",
    "#history = model.fit([train.user_id, train.item_id], train.rating, epochs=50, verbose=2)"
   ]
  },
  {
   "cell_type": "code",
   "execution_count": 31,
   "metadata": {
    "colab": {
     "base_uri": "https://localhost:8080/",
     "height": 1000
    },
    "colab_type": "code",
    "id": "RDKMNgF6qKV6",
    "outputId": "c83dae79-4af2-42e0-8f75-75917a913c05"
   },
   "outputs": [
    {
     "name": "stdout",
     "output_type": "stream",
     "text": [
      "128000\n",
      "Train for 500 steps\n",
      "500/500 - 2s - loss: 0.5335 - binary_accuracy: 0.7264\n"
     ]
    }
   ],
   "source": [
    "#2  training with fit generator\n",
    "train_generator = DataGenerator(train, batch_size=256, shuffle=False)\n",
    "history = model.fit(train_generator, epochs=1,verbose=2)"
   ]
  },
  {
   "cell_type": "code",
   "execution_count": 23,
   "metadata": {
    "colab": {
     "base_uri": "https://localhost:8080/",
     "height": 296
    },
    "colab_type": "code",
    "id": "3rBNDDvsAVz9",
    "outputId": "208f245a-ebf0-45a3-e5ef-20666501054f"
   },
   "outputs": [
    {
     "data": {
      "text/plain": [
       "<matplotlib.legend.Legend at 0x1e34a236a90>"
      ]
     },
     "execution_count": 23,
     "metadata": {},
     "output_type": "execute_result"
    },
    {
     "data": {
      "image/png": "[encoded data removed]",
      "text/plain": [
       "<Figure size 432x288 with 1 Axes>"
      ]
     },
     "metadata": {
      "needs_background": "light"
     },
     "output_type": "display_data"
    }
   ],
   "source": [
    "pd.Series(history.history['loss']).plot(logy=True)\n",
    "pd.Series(history.history['binary_accuracy']).plot(logy=True)\n",
    "plt.xlabel(\"Epoch\")\n",
    "plt.ylabel(\"Training Error\")\n",
    "plt.legend(['loss','binary_accuracy'])"
   ]
  },
  {
   "cell_type": "markdown",
   "metadata": {
    "colab_type": "text",
    "id": "zsUo0jOMAckI"
   },
   "source": [
    "Let's now see how our model does! I'll do a small post-processing step to round off our prediction to the nearest integer. This is usually not done, and thus just a whimsical step, since the training ratings are all integers! There are better ways to encode this intger requirement (one-hot encoding!), but we won't discuss them in this post."
   ]
  },
  {
   "cell_type": "code",
   "execution_count": 32,
   "metadata": {
    "colab": {
     "base_uri": "https://localhost:8080/",
     "height": 34
    },
    "colab_type": "code",
    "id": "ib_XOvTf82YC",
    "outputId": "95a04d5e-a957-49e1-feb9-bdabd67ec166"
   },
   "outputs": [
    {
     "name": "stdout",
     "output_type": "stream",
     "text": [
      "40000/40000 [==============================] - 2s 53us/sample - loss: 0.5297 - binary_accuracy: 0.7612\n"
     ]
    }
   ],
   "source": [
    "results = model.evaluate((test.user_id, test.item_id), test.rating,\n",
    "                            batch_size=16)"
   ]
  },
  {
   "cell_type": "code",
   "execution_count": 25,
   "metadata": {
    "colab": {
     "base_uri": "https://localhost:8080/",
     "height": 34
    },
    "colab_type": "code",
    "id": "2_KLYnwLXIHA",
    "outputId": "825abfbc-ddc4-4a32-fb6f-2ad2397f5848"
   },
   "outputs": [
    {
     "name": "stdout",
     "output_type": "stream",
     "text": [
      "[0.40795379484452804, 0.82982075]\n"
     ]
    }
   ],
   "source": [
    "print(results)"
   ]
  },
  {
   "cell_type": "code",
   "execution_count": 26,
   "metadata": {
    "colab": {},
    "colab_type": "code",
    "id": "9t-vHot_AbYw"
   },
   "outputs": [],
   "source": [
    "#y_hat = np.round(model.predict([test.user_id, test.item_id]),0)\n",
    "y_hat = model.predict([test.user_id, test.item_id])\n",
    "y_true = test.rating"
   ]
  },
  {
   "cell_type": "code",
   "execution_count": 27,
   "metadata": {},
   "outputs": [
    {
     "name": "stdout",
     "output_type": "stream",
     "text": [
      "y_hat: [[0.9713482 ]\n",
      " [0.8816339 ]\n",
      " [0.8869746 ]\n",
      " ...\n",
      " [0.3802834 ]\n",
      " [0.75384367]\n",
      " [0.50152695]]\n",
      "y_true 6274       1\n",
      "287394     1\n",
      "777453     1\n",
      "725333     1\n",
      "627395     1\n",
      "          ..\n",
      "661099     1\n",
      "984271     1\n",
      "1457948    0\n",
      "171831     1\n",
      "644831     1\n",
      "Name: rating, Length: 400084, dtype: int64\n"
     ]
    }
   ],
   "source": [
    "#y_hat = np.round(model.predict([test.user_id, test.item_id]),0)\n",
    "y_hat = model.predict([test.user_id, test.item_id])\n",
    "y_true = test.rating\n",
    "print('y_hat:', y_hat)\n",
    "print('y_true',y_true)"
   ]
  },
  {
   "cell_type": "code",
   "execution_count": 28,
   "metadata": {},
   "outputs": [],
   "source": [
    "y_true=y_true.to_numpy()\n",
    "y_true.shape= (1,400084)"
   ]
  },
  {
   "cell_type": "code",
   "execution_count": 29,
   "metadata": {},
   "outputs": [
    {
     "data": {
      "text/plain": [
       "array([[0.9713482 ],\n",
       "       [0.8816339 ],\n",
       "       [0.8869746 ],\n",
       "       ...,\n",
       "       [0.3802834 ],\n",
       "       [0.75384367],\n",
       "       [0.50152695]], dtype=float32)"
      ]
     },
     "execution_count": 29,
     "metadata": {},
     "output_type": "execute_result"
    }
   ],
   "source": [
    "y_score=y_hat\n",
    "y_score\n"
   ]
  },
  {
   "cell_type": "code",
   "execution_count": 30,
   "metadata": {},
   "outputs": [],
   "source": [
    "#y_temp=y_score.round()\n",
    "y_temp=y_score\n",
    "y_temp=y_temp.transpose()\n",
    "#y_true.shape=(1,400084)"
   ]
  },
  {
   "cell_type": "code",
   "execution_count": 31,
   "metadata": {},
   "outputs": [
    {
     "name": "stdout",
     "output_type": "stream",
     "text": [
      "<class 'numpy.ndarray'>\n",
      "[[0.9713482  0.8816339  0.8869746  ... 0.3802834  0.75384367 0.50152695]]\n",
      "(1, 400084)\n",
      "<class 'numpy.ndarray'>\n",
      "[[1 1 1 ... 0 1 1]]\n",
      "(1, 400084)\n"
     ]
    }
   ],
   "source": [
    "print(type(y_temp))\n",
    "print(y_temp)\n",
    "print(y_temp.shape)\n",
    "\n",
    "print(type(y_true))\n",
    "print(y_true)\n",
    "print(y_true.shape)"
   ]
  },
  {
   "cell_type": "code",
   "execution_count": 32,
   "metadata": {},
   "outputs": [
    {
     "data": {
      "text/plain": [
       "0.22399760229840115"
      ]
     },
     "execution_count": 32,
     "metadata": {},
     "output_type": "execute_result"
    }
   ],
   "source": [
    "from sklearn.metrics import mean_absolute_error\n",
    "mean_absolute_error(y_true, y_temp)"
   ]
  },
  {
   "cell_type": "code",
   "execution_count": 33,
   "metadata": {},
   "outputs": [
    {
     "data": {
      "text/plain": [
       "0.9911719701558349"
      ]
     },
     "execution_count": 33,
     "metadata": {},
     "output_type": "execute_result"
    }
   ],
   "source": [
    "#NDCG calculation\n",
    "from sklearn.metrics import ndcg_score\n",
    "#ndcg_score(y_true, y_hat,k=1,ignore_ties=True)\n",
    "ndcg_score(y_true, y_temp)"
   ]
  },
  {
   "cell_type": "code",
   "execution_count": 34,
   "metadata": {},
   "outputs": [
    {
     "data": {
      "text/plain": [
       "0.8987349439792008"
      ]
     },
     "execution_count": 34,
     "metadata": {},
     "output_type": "execute_result"
    }
   ],
   "source": [
    "import numpy as np\n",
    "from sklearn.metrics import label_ranking_average_precision_score\n",
    "#y_true = np.array([[1, 0, 0], [0, 0, 1]])\n",
    "#y_score = np.array([[0.75, 0.5, 1], [1, 0.2, 0.1]])\n",
    "label_ranking_average_precision_score(y_true, y_temp)"
   ]
  },
  {
   "cell_type": "code",
   "execution_count": 35,
   "metadata": {},
   "outputs": [
    {
     "name": "stdout",
     "output_type": "stream",
     "text": [
      "<class 'list'>\n"
     ]
    }
   ],
   "source": [
    "for i in y_true:    \n",
    "    y_tr=i.tolist()\n",
    "#print(y_tr)\n",
    "print(type(y_tr))"
   ]
  },
  {
   "cell_type": "code",
   "execution_count": 37,
   "metadata": {},
   "outputs": [],
   "source": [
    "\n",
    "y_pr=[]\n",
    "for i in tmp:\n",
    "    y_pr.append(int(i))\n",
    "#print(y_pr)\n",
    "for i in y_temp:\n",
    "    tmp=i.tolist()\n",
    "#print(y_tr)\n",
    "#print(type(y_pr))"
   ]
  },
  {
   "cell_type": "code",
   "execution_count": 38,
   "metadata": {},
   "outputs": [
    {
     "data": {
      "text/plain": [
       "0.49951760130372624"
      ]
     },
     "execution_count": 38,
     "metadata": {},
     "output_type": "execute_result"
    }
   ],
   "source": [
    "from sklearn.metrics import recall_score\n",
    "#y_tr = [0, 1, 2, 0, 1, 2]\n",
    "#y_pr = [0, 2, 1, 0, 0, 1]\n",
    "recall_score(y_tr, y_pr, average='weighted')\n",
    "\n"
   ]
  },
  {
   "cell_type": "code",
   "execution_count": 40,
   "metadata": {},
   "outputs": [
    {
     "data": {
      "text/plain": [
       "0.49951760130372624"
      ]
     },
     "execution_count": 40,
     "metadata": {},
     "output_type": "execute_result"
    }
   ],
   "source": [
    "from sklearn.metrics import accuracy_score\n",
    "accuracy_score(y_tr, y_pr)"
   ]
  },
  {
   "cell_type": "code",
   "execution_count": 42,
   "metadata": {},
   "outputs": [
    {
     "name": "stdout",
     "output_type": "stream",
     "text": [
      "Model 2 TEST result\n",
      "Accuracy: 0.49951760130372624\n",
      "Precision: 0.8987349439792008\n",
      "Recall: 0.49951760130372624\n",
      "NDCG: 0.9911719701558349\n"
     ]
    }
   ],
   "source": [
    "#RESULTS\n",
    "print('Model 2 TEST result')\n",
    "print('Accuracy:',accuracy_score(y_tr, y_pr))\n",
    "print('Precision:',label_ranking_average_precision_score(y_true, y_temp))\n",
    "print('Recall:',recall_score(y_tr, y_pr, average='weighted'))\n",
    "print('NDCG:',ndcg_score(y_true, y_temp))\n",
    "\n",
    "\n"
   ]
  },
  {
   "cell_type": "code",
   "execution_count": 0,
   "metadata": {
    "colab": {},
    "colab_type": "code",
    "id": "J1uYaP30BECx"
   },
   "outputs": [],
   "source": [
    "from sklearn.metrics import mean_absolute_error\n",
    "mean_absolute_error(y_true, y_hat)"
   ]
  },
  {
   "cell_type": "markdown",
   "metadata": {
    "colab_type": "text",
    "id": "3SNJvRghFJhb"
   },
   "source": [
    "#Extracting the learnt embeddings\n",
    "We can extract the learnt movie and item embeddings as follows:"
   ]
  },
  {
   "cell_type": "code",
   "execution_count": 0,
   "metadata": {
    "colab": {},
    "colab_type": "code",
    "id": "R2tfqNNoE--W"
   },
   "outputs": [],
   "source": [
    "movie_embedding_learnt = model.get_layer(name='Movie-Embedding').get_weights()[0]\n",
    "pd.DataFrame(movie_embedding_learnt).describe()"
   ]
  },
  {
   "cell_type": "code",
   "execution_count": 0,
   "metadata": {
    "colab": {},
    "colab_type": "code",
    "id": "opKXs8LAFcBz"
   },
   "outputs": [],
   "source": [
    "user_embedding_learnt = model.get_layer(name='User-Embedding').get_weights()[0]\n",
    "pd.DataFrame(user_embedding_learnt).describe()"
   ]
  },
  {
   "cell_type": "code",
   "execution_count": 0,
   "metadata": {
    "colab": {},
    "colab_type": "code",
    "id": "pgmUp9H4iM7Y"
   },
   "outputs": [],
   "source": [
    "user_embedding_learnt"
   ]
  },
  {
   "cell_type": "code",
   "execution_count": 0,
   "metadata": {
    "colab": {},
    "colab_type": "code",
    "id": "VgE_sxM8d1ms"
   },
   "outputs": [],
   "source": [
    "user_embedding_learnt.shape"
   ]
  },
  {
   "cell_type": "markdown",
   "metadata": {
    "colab_type": "text",
    "id": "hWmburXptUYC"
   },
   "source": [
    "#Recommend top n movies"
   ]
  },
  {
   "cell_type": "code",
   "execution_count": 0,
   "metadata": {
    "colab": {},
    "colab_type": "code",
    "id": "qYvdr240tYSi"
   },
   "outputs": [],
   "source": [
    "def recommend(user_id, number_of_movies=5):\n",
    "  movies = user_embedding_learnt[user_id]@movie_embedding_learnt.T\n",
    "  mids = np.argpartition(movies, -number_of_movies)[-number_of_movies:]\n",
    "  return mids"
   ]
  },
  {
   "cell_type": "code",
   "execution_count": 0,
   "metadata": {
    "colab": {},
    "colab_type": "code",
    "id": "bFly9Tac2NIp"
   },
   "outputs": [],
   "source": [
    "recommend(user_id=1)"
   ]
  },
  {
   "cell_type": "markdown",
   "metadata": {
    "colab_type": "text",
    "id": "41TD2GmadI1f"
   },
   "source": []
  },
  {
   "cell_type": "markdown",
   "metadata": {
    "colab_type": "text",
    "id": "UAJLozbK_WLX"
   },
   "source": [
    "#Experimental results:\n",
    "1. array([ 482,   56, 1462, 1397, 1642]) --> normal training (fit) 100 epoches\n",
    "2. array([1638,  118, 1466, 1448, 1627]) --> generator training (fit_generator) 20 epoches\n",
    "3. array([ 901,  319, 1404, 1448, 1642])--> generator training (fit_generator) 50 epoches\n"
   ]
  },
  {
   "cell_type": "markdown",
   "metadata": {
    "colab_type": "text",
    "id": "-nhdII8e9LNZ"
   },
   "source": [
    "#References\n",
    "https://nipunbatra.github.io/blog/2017/recommend-keras.html\n",
    "\n",
    "https://medium.com/sfu-big-data/recommendation-systems-collaborative-filtering-using-matrix-factorization-simplified-2118f4ef2cd3\n",
    "\n",
    "[Keras regularizer](https://keras.io/regularizers/)"
   ]
  },
  {
   "cell_type": "code",
   "execution_count": 0,
   "metadata": {
    "colab": {},
    "colab_type": "code",
    "id": "N3ZFWDz4v3ml"
   },
   "outputs": [],
   "source": []
  }
 ],
 "metadata": {
  "accelerator": "GPU",
  "colab": {
   "collapsed_sections": [],
   "name": "Model 2a for implicit data: Matrix factorization MLP With data generator",
   "provenance": []
  },
  "kernelspec": {
   "display_name": "Python 3",
   "language": "python",
   "name": "python3"
  },
  "language_info": {
   "codemirror_mode": {
    "name": "ipython",
    "version": 3
   },
   "file_extension": ".py",
   "mimetype": "text/x-python",
   "name": "python",
   "nbconvert_exporter": "python",
   "pygments_lexer": "ipython3",
   "version": "3.7.7"
  }
 },
 "nbformat": 4,
 "nbformat_minor": 1
}
