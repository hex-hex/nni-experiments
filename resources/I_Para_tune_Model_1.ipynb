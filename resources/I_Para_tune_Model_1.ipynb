{
 "cells": [
  {
   "cell_type": "markdown",
   "metadata": {
    "colab_type": "text",
    "id": "ISjKiMP59TG4"
   },
   "source": [
    "Specifically, in this post, I'll talk about:\n",
    "\n",
    "- Matrix Factorisation in Keras\n",
    "- Adding non-negativitiy constraints to solve non-negative matrix factorisation (NNMF)\n",
    "- Using neural networks for recommendations\n",
    "- No scaler\n",
    "- seed=2020\n",
    "- create train test val (70/20/10%)"
   ]
  },
  {
   "cell_type": "markdown",
   "metadata": {
    "colab_type": "text",
    "id": "p00iqHSPdMqj"
   },
   "source": [
    "# Select dataset to process"
   ]
  },
  {
   "cell_type": "code",
   "execution_count": 1,
   "metadata": {
    "cellView": "both",
    "colab": {},
    "colab_type": "code",
    "id": "TLI39UUJRBoQ"
   },
   "outputs": [],
   "source": [
    "#@title\n",
    "from sklearn.datasets import dump_svmlight_file\n",
    "import numpy as np\n",
    "import pandas as pd\n",
    "import os\n",
    "import urllib\n",
    "import zipfile\n",
    "from sklearn.model_selection import train_test_split\n",
    "import shutil\n",
    "\n",
    "import matplotlib.pyplot as plt\n",
    "import warnings\n",
    "warnings.filterwarnings('ignore')\n",
    "\n",
    "#%matplotlib inline"
   ]
  },
  {
   "cell_type": "code",
   "execution_count": 2,
   "metadata": {},
   "outputs": [],
   "source": [
    "import easydict\n",
    "args = easydict.EasyDict({\n",
    "        \"hidden_factors\": [8,16,32,64],\n",
    "        'batch':[128,256,512,1024],\n",
    "        'regularizer': [1e-4,1e-6,1e-8],\n",
    "        'lr':[0.0001 ,0.0005, 0.001, 0.005],\n",
    "    })     "
   ]
  },
  {
   "cell_type": "code",
   "execution_count": 3,
   "metadata": {
    "cellView": "both",
    "colab": {},
    "colab_type": "code",
    "id": "mj1majvNM3H_"
   },
   "outputs": [],
   "source": [
    "#dt_dir_name= \"C:/Users/MoNguyen/Desktop/Mo/sample_data/ml-1m/\"\n",
    "dt_dir_name= \"C:/Users/thinguyen/Desktop/PhD_2020/Python Code/GNN/Mo/sample_data/ml-100k\"\n"
   ]
  },
  {
   "cell_type": "code",
   "execution_count": 4,
   "metadata": {
    "colab": {
     "base_uri": "https://localhost:8080/",
     "height": 68
    },
    "colab_type": "code",
    "id": "rQsKDMEHSl4K",
    "outputId": "92d7ccaa-e662-4115-ad34-8f2607357081"
   },
   "outputs": [],
   "source": [
    "#dataset = pd.read_csv(dt_dir_name+\"/u.data\",sep='\\t',names=\"user_id,item_id,rating,timestamp\".split(\",\"))\n",
    "#dataset = pd.read_csv(dt_dir_name +'/'+ 'ratings.dat', delimiter='\\:\\:', names=['user_id', 'item_id', 'rating', 'timestamp'])\n",
    "dataset = pd.read_csv(dt_dir_name +'/'+ 'implicit_rating.csv', usecols=[0,1,2,3],names=['user_id', 'item_id', 'rating', 'timestamp'])\n",
    "\n",
    "\n"
   ]
  },
  {
   "cell_type": "code",
   "execution_count": 5,
   "metadata": {
    "colab": {
     "base_uri": "https://localhost:8080/",
     "height": 34
    },
    "colab_type": "code",
    "id": "QtzmUk7oHPyJ",
    "outputId": "8ce4ff43-150a-45a5-df6a-a01a86e75bf3"
   },
   "outputs": [
    {
     "data": {
      "text/plain": [
       "(943, 1682)"
      ]
     },
     "execution_count": 5,
     "metadata": {},
     "output_type": "execute_result"
    }
   ],
   "source": [
    "len(dataset.user_id.unique()), len(dataset.item_id.unique())"
   ]
  },
  {
   "cell_type": "markdown",
   "metadata": {
    "colab_type": "text",
    "id": "-dVgDEE9IPyl"
   },
   "source": [
    "We assign a unique number between (0, #users) to each user and do the same for movies.\n"
   ]
  },
  {
   "cell_type": "code",
   "execution_count": 6,
   "metadata": {
    "colab": {},
    "colab_type": "code",
    "id": "mdMvvq9MJh8u"
   },
   "outputs": [],
   "source": [
    "dataset.user_id = dataset.user_id.astype('category').cat.codes.values\n",
    "dataset.item_id = dataset.item_id.astype('category').cat.codes.values"
   ]
  },
  {
   "cell_type": "code",
   "execution_count": 7,
   "metadata": {
    "colab": {
     "base_uri": "https://localhost:8080/",
     "height": 204
    },
    "colab_type": "code",
    "id": "57rSnRj5JnnI",
    "outputId": "28d108d0-70b4-4669-c01c-e206bc1a4a0c"
   },
   "outputs": [
    {
     "data": {
      "text/html": [
       "<div>\n",
       "<style scoped>\n",
       "    .dataframe tbody tr th:only-of-type {\n",
       "        vertical-align: middle;\n",
       "    }\n",
       "\n",
       "    .dataframe tbody tr th {\n",
       "        vertical-align: top;\n",
       "    }\n",
       "\n",
       "    .dataframe thead th {\n",
       "        text-align: right;\n",
       "    }\n",
       "</style>\n",
       "<table border=\"1\" class=\"dataframe\">\n",
       "  <thead>\n",
       "    <tr style=\"text-align: right;\">\n",
       "      <th></th>\n",
       "      <th>user_id</th>\n",
       "      <th>item_id</th>\n",
       "      <th>rating</th>\n",
       "      <th>timestamp</th>\n",
       "    </tr>\n",
       "  </thead>\n",
       "  <tbody>\n",
       "    <tr>\n",
       "      <th>0</th>\n",
       "      <td>195</td>\n",
       "      <td>241</td>\n",
       "      <td>1</td>\n",
       "      <td>881250949</td>\n",
       "    </tr>\n",
       "    <tr>\n",
       "      <th>1</th>\n",
       "      <td>185</td>\n",
       "      <td>301</td>\n",
       "      <td>1</td>\n",
       "      <td>891717742</td>\n",
       "    </tr>\n",
       "    <tr>\n",
       "      <th>2</th>\n",
       "      <td>21</td>\n",
       "      <td>376</td>\n",
       "      <td>1</td>\n",
       "      <td>878887116</td>\n",
       "    </tr>\n",
       "    <tr>\n",
       "      <th>3</th>\n",
       "      <td>243</td>\n",
       "      <td>50</td>\n",
       "      <td>1</td>\n",
       "      <td>880606923</td>\n",
       "    </tr>\n",
       "    <tr>\n",
       "      <th>4</th>\n",
       "      <td>165</td>\n",
       "      <td>345</td>\n",
       "      <td>1</td>\n",
       "      <td>886397596</td>\n",
       "    </tr>\n",
       "  </tbody>\n",
       "</table>\n",
       "</div>"
      ],
      "text/plain": [
       "   user_id  item_id  rating  timestamp\n",
       "0      195      241       1  881250949\n",
       "1      185      301       1  891717742\n",
       "2       21      376       1  878887116\n",
       "3      243       50       1  880606923\n",
       "4      165      345       1  886397596"
      ]
     },
     "execution_count": 7,
     "metadata": {},
     "output_type": "execute_result"
    }
   ],
   "source": [
    "dataset.head()"
   ]
  },
  {
   "cell_type": "markdown",
   "metadata": {
    "colab_type": "text",
    "id": "xv9sGVkCPeZf"
   },
   "source": [
    "##Create train, test, val set"
   ]
  },
  {
   "cell_type": "code",
   "execution_count": 8,
   "metadata": {
    "colab": {},
    "colab_type": "code",
    "id": "HYxI9uKCQ9Gl"
   },
   "outputs": [],
   "source": [
    "#Version 1.2 (flexible + superfast negative sampling uniform)\n",
    "import random\n",
    "import time\n",
    "import scipy\n",
    "\n",
    "def neg_sampling(ratings_df, n_neg=1, neg_val=0, pos_val=1, percent_print=5):\n",
    "  \"\"\"version 1.2: 1 positive 1 neg (2 times bigger than the original dataset by default)\n",
    "\n",
    "    Parameters:\n",
    "    input rating data as pandas dataframe: userId|movieId|rating\n",
    "    n_neg: include n_negative / 1 positive\n",
    "\n",
    "    Returns:\n",
    "    negative sampled set as pandas dataframe\n",
    "            userId|movieId|interact (implicit)\n",
    "  \"\"\"\n",
    "  sparse_mat = scipy.sparse.coo_matrix((ratings_df.rating, (ratings_df.user_id, ratings_df.item_id)))\n",
    "  dense_mat = np.asarray(sparse_mat.todense())\n",
    "  print(dense_mat.shape)\n",
    "\n",
    "  nsamples = ratings_df[['user_id', 'item_id']]\n",
    "  nsamples['rating'] = nsamples.apply(lambda row: 1, axis=1)\n",
    "  length = dense_mat.shape[0]\n",
    "  printpc = int(length * percent_print/100)\n",
    "\n",
    "  nTempData = []\n",
    "  i = 0\n",
    "  start_time = time.time()\n",
    "  stop_time = time.time()\n",
    "\n",
    "  extra_samples = 0\n",
    "  for row in dense_mat:\n",
    "    if(i%printpc==0):\n",
    "      stop_time = time.time()\n",
    "      print(\"processed ... {0:0.2f}% ...{1:0.2f}secs\".format(float(i)*100 / length, stop_time - start_time))\n",
    "      start_time = stop_time\n",
    "\n",
    "    n_non_0 = len(np.nonzero(row)[0])\n",
    "    zero_indices = np.where(row==0)[0]\n",
    "    if(n_non_0 * n_neg + extra_samples > len(zero_indices)):\n",
    "      print(i, \"non 0:\", n_non_0,\": len \",len(zero_indices))\n",
    "      neg_indices = zero_indices.tolist()\n",
    "      extra_samples = n_non_0 * n_neg + extra_samples - len(zero_indices)\n",
    "    else:\n",
    "      neg_indices = random.sample(zero_indices.tolist(), n_non_0 * n_neg + extra_samples)\n",
    "      extra_samples = 0\n",
    "\n",
    "    nTempData.extend([(uu, ii, rr) for (uu, ii, rr) in zip(np.repeat(i, len(neg_indices))\n",
    "                    , neg_indices, np.repeat(neg_val, len(neg_indices)))])\n",
    "    i+=1\n",
    "\n",
    "  nsamples=nsamples.append(pd.DataFrame(nTempData, columns=[\"user_id\",\"item_id\", \"rating\"]),ignore_index=True)\n",
    "  nsamples.reset_index(drop=True)\n",
    "  return nsamples"
   ]
  },
  {
   "cell_type": "code",
   "execution_count": 9,
   "metadata": {
    "colab": {
     "base_uri": "https://localhost:8080/",
     "height": 391
    },
    "colab_type": "code",
    "id": "y_14eDLzQ5tY",
    "outputId": "84f99b3b-ec95-4f58-cad1-57872bdb56d1"
   },
   "outputs": [
    {
     "name": "stdout",
     "output_type": "stream",
     "text": [
      "(943, 1682)\n",
      "processed ... 0.00% ...0.00secs\n",
      "processed ... 4.98% ...0.02secs\n",
      "processed ... 9.97% ...0.02secs\n",
      "processed ... 14.95% ...0.01secs\n",
      "processed ... 19.94% ...0.00secs\n",
      "processed ... 24.92% ...0.02secs\n",
      "processed ... 29.90% ...0.00secs\n",
      "processed ... 34.89% ...0.02secs\n",
      "processed ... 39.87% ...0.02secs\n",
      "processed ... 44.86% ...0.02secs\n",
      "processed ... 49.84% ...0.02secs\n",
      "processed ... 54.83% ...0.00secs\n",
      "processed ... 59.81% ...0.02secs\n",
      "processed ... 64.79% ...0.00secs\n",
      "processed ... 69.78% ...0.02secs\n",
      "processed ... 74.76% ...0.00secs\n",
      "processed ... 79.75% ...0.02secs\n",
      "processed ... 84.73% ...0.00secs\n",
      "processed ... 89.71% ...0.02secs\n",
      "processed ... 94.70% ...0.00secs\n",
      "processed ... 99.68% ...0.02secs\n"
     ]
    }
   ],
   "source": [
    "neg_dataset = neg_sampling(dataset)\n",
    "\n",
    "\n",
    "train, test = train_test_split(neg_dataset, test_size=0.2, random_state=2020)\n",
    "train, val = train_test_split(train, test_size=0.2, random_state=2020)\n",
    "\n",
    "# train.reset_index(inplace=True, drop=True)\n",
    "# test.reset_index(inplace=True, drop=True)\n",
    "# val.reset_index(inplace=True, drop=True)"
   ]
  },
  {
   "cell_type": "code",
   "execution_count": 10,
   "metadata": {
    "colab": {
     "base_uri": "https://localhost:8080/",
     "height": 34
    },
    "colab_type": "code",
    "id": "WJ7g4MN56hLU",
    "outputId": "18ce55a3-a6ac-4371-e56c-d12034162871"
   },
   "outputs": [
    {
     "name": "stdout",
     "output_type": "stream",
     "text": [
      "(200000, 3) (128000, 3) (40000, 3) (32000, 3)\n"
     ]
    }
   ],
   "source": [
    "print(neg_dataset.shape, train.shape, test.shape, val.shape)"
   ]
  },
  {
   "cell_type": "code",
   "execution_count": 11,
   "metadata": {
    "colab": {
     "base_uri": "https://localhost:8080/",
     "height": 136
    },
    "colab_type": "code",
    "id": "CFODEJswUw_m",
    "outputId": "97b423be-5b81-4ae8-e237-898f6891699e"
   },
   "outputs": [
    {
     "name": "stdout",
     "output_type": "stream",
     "text": [
      "(128000, 3) \n",
      "         user_id  item_id  rating\n",
      "100813        6     1210       0\n",
      "21704       396      173       1\n",
      "147013      416      884       0\n",
      "138923      353     1386       0\n",
      "87201       415      726       1\n"
     ]
    }
   ],
   "source": [
    "print(train.shape,\"\\n\", train.head())"
   ]
  },
  {
   "cell_type": "markdown",
   "metadata": {
    "colab_type": "text",
    "id": "i9xgsQVDn9Or"
   },
   "source": [
    "#Build model using Keras\n",
    "\n",
    "One popular recommender systems approach is called Matrix Factorisation. It works on the principle that we can learn a low-dimensional representation (embedding) of user and movie. For example, for each movie, we can have how much action it has, how long it is, and so on. For each user, we can encode how much they like action, or how much they like long movies, etc. Thus, we can combine the user and the movie embeddings to estimate the ratings on unseen movies. This approach can also be viewed as: given a matrix (A [M X N]) containing users and movies, we want to estimate low dimensional matrices (W [M X k] and H [M X k]), such that: $A≈W.HT$"
   ]
  },
  {
   "cell_type": "code",
   "execution_count": 12,
   "metadata": {
    "colab": {
     "base_uri": "https://localhost:8080/",
     "height": 34
    },
    "colab_type": "code",
    "id": "YqaiwFjg0XhQ",
    "outputId": "9d2f77a4-98ad-44a7-8dd4-f5f5170fdccb"
   },
   "outputs": [],
   "source": [
    "#tensorflow_version 2.x\n",
    "import tensorflow as tf\n",
    "from tensorflow import keras\n",
    "from tensorflow.keras.optimizers import Adam\n",
    "from tensorflow.keras.utils import Sequence\n",
    "from tensorflow.keras.regularizers import l2, l1\n",
    "from tensorflow.keras.initializers import RandomUniform, he_normal,he_uniform\n",
    "import math\n"
   ]
  },
  {
   "cell_type": "markdown",
   "metadata": {
    "colab_type": "text",
    "id": "tcLZlHdqGtC8"
   },
   "source": [
    "##Base settings"
   ]
  },
  {
   "cell_type": "code",
   "execution_count": 34,
   "metadata": {
    "colab": {},
    "colab_type": "code",
    "id": "ZlsjITfm0Yyg"
   },
   "outputs": [],
   "source": [
    "model_name='model1'\n",
    "seed=2020\n",
    "embedding_init = RandomUniform(seed=seed)\n",
    "relu_init = he_uniform(seed=seed)\n",
    "#regu =l2(1e-6)"
   ]
  },
  {
   "cell_type": "markdown",
   "metadata": {
    "colab_type": "text",
    "id": "Bwi9qP5wq1Xx"
   },
   "source": [
    "##Create MF model "
   ]
  },
  {
   "cell_type": "code",
   "execution_count": null,
   "metadata": {
    "colab": {},
    "colab_type": "code",
    "id": "htOy9wHGfRY_"
   },
   "outputs": [],
   "source": []
  },
  {
   "cell_type": "code",
   "execution_count": 52,
   "metadata": {
    "colab": {},
    "colab_type": "code",
    "id": "tS5pCCJD4CKu"
   },
   "outputs": [],
   "source": [
    "def create_model(dataset, n_latent_factors = 16, learning_rate=0.1,regu=1e-6):\n",
    "  n_users, n_movies = len(dataset.user_id.unique()), len(dataset.item_id.unique())\n",
    "  #n_latent_factors = 16\n",
    "\n",
    "  movie_input = keras.layers.Input(shape=[1],name='Item')\n",
    "  movie_embedding = keras.layers.Embedding(n_movies, n_latent_factors, \n",
    "                                          embeddings_initializer=embedding_init, \n",
    "                                          embeddings_regularizer=l2(regu), \n",
    "                                          embeddings_constraint=\"NonNeg\", \n",
    "                                          name='Movie-Embedding')(movie_input)\n",
    "  movie_vec = keras.layers.Flatten(name='FlattenMovies')(movie_embedding)\n",
    "\n",
    "  user_input = keras.layers.Input(shape=[1],name='User')\n",
    "  user_embedding = keras.layers.Embedding(n_users, n_latent_factors, \n",
    "                                          embeddings_initializer=embedding_init, \n",
    "                                          embeddings_regularizer=l2(regu), \n",
    "                                          embeddings_constraint=\"NonNeg\", \n",
    "                                          name='User-Embedding')(user_input)\n",
    "  user_vec = keras.layers.Flatten(name='FlattenUsers')(user_embedding)\n",
    "\n",
    "  prod = keras.layers.dot([movie_vec, user_vec], axes=1,normalize=True,name='DotProduct')\n",
    "  model = keras.Model([user_input, movie_input], prod)\n",
    "  sgd= tf.keras.optimizers.SGD(learning_rate)\n",
    "  model.compile(optimizer='sgd', loss='binary_crossentropy', metrics=['binary_accuracy'])\n",
    "  return model"
   ]
  },
  {
   "cell_type": "code",
   "execution_count": 53,
   "metadata": {
    "colab": {
     "base_uri": "https://localhost:8080/",
     "height": 408
    },
    "colab_type": "code",
    "id": "McVRKQOQ7IrE",
    "outputId": "e308f2ba-4858-4659-ab24-90d339b45dc7",
    "scrolled": true
   },
   "outputs": [],
   "source": [
    "model = create_model(neg_dataset,args.hidden_factors[0],args.lr[0],args.regularizer[0]) "
   ]
  },
  {
   "cell_type": "code",
   "execution_count": 45,
   "metadata": {
    "colab": {
     "base_uri": "https://localhost:8080/",
     "height": 422
    },
    "colab_type": "code",
    "id": "rzhUciu_aadj",
    "outputId": "132396b0-d4e7-4e32-bd97-d48036a055f7"
   },
   "outputs": [
    {
     "data": {
      "image/png": "[encoded data removed]",
      "text/plain": [
       "<IPython.core.display.Image object>"
      ]
     },
     "execution_count": 45,
     "metadata": {},
     "output_type": "execute_result"
    }
   ],
   "source": [
    "tf.keras.utils.plot_model(model, to_file='model.png', show_shapes=True)"
   ]
  },
  {
   "cell_type": "code",
   "execution_count": 46,
   "metadata": {
    "colab": {
     "base_uri": "https://localhost:8080/",
     "height": 34
    },
    "colab_type": "code",
    "id": "Zb5OshRHY1ja",
    "outputId": "912b754b-1ac2-4966-cace-408078ee9bf8",
    "scrolled": true
   },
   "outputs": [
    {
     "data": {
      "text/plain": [
       "RangeIndex(start=0, stop=100000, step=1)"
      ]
     },
     "execution_count": 46,
     "metadata": {},
     "output_type": "execute_result"
    }
   ],
   "source": [
    "dataset.index"
   ]
  },
  {
   "cell_type": "markdown",
   "metadata": {
    "colab_type": "text",
    "id": "KWFIEuywrj_z"
   },
   "source": [
    "##Create data generator class\n",
    "\n",
    "The class generate the sample for training dynamically"
   ]
  },
  {
   "cell_type": "code",
   "execution_count": 54,
   "metadata": {
    "colab": {},
    "colab_type": "code",
    "id": "ciQUP_SNreJB"
   },
   "outputs": [],
   "source": [
    "from tensorflow.keras.utils import Sequence\n",
    "import math\n",
    "\n",
    "class DataGenerator(Sequence):\n",
    "    def __init__(self, dataframe, batch_size=16, shuffle=True):\n",
    "        'Initialization'\n",
    "        self.batch_size = batch_size\n",
    "        self.dataframe = dataframe\n",
    "        self.shuffle = shuffle\n",
    "        self.indices = dataframe.index\n",
    "        print(len(self.indices))\n",
    "        self.on_epoch_end()\n",
    "\n",
    "    def __len__(self):\n",
    "        'Denotes the number of batches per epoch'\n",
    "        return math.floor(len(self.dataframe) / self.batch_size)\n",
    "\n",
    "    def __getitem__(self, index):\n",
    "        'Generate one batch of data'\n",
    "        # Generate indexes of the batch\n",
    "        idxs = [i for i in range(index*self.batch_size,(index+1)*self.batch_size)]\n",
    "        \n",
    "        # Find list of batch IDs\n",
    "        list_IDs_temp = [self.indices[k] for k in idxs]\n",
    "\n",
    "        # Generate data\n",
    "        User = self.dataframe.loc[list_IDs_temp,['user_id']].to_numpy()#.reshape(-1)\n",
    "        Item = self.dataframe.loc[list_IDs_temp,['item_id']].to_numpy()#.reshape(-1)\n",
    "        rating = self.dataframe.loc[list_IDs_temp,['rating']].to_numpy()#.reshape(-1)\n",
    "        #print(\"u,i,r:\", [User, Item],[y])\n",
    "        return [User, Item],[rating]\n",
    "\n",
    "    def on_epoch_end(self):\n",
    "        'Updates indexes after each epoch'\n",
    "        self.indices = np.arange(len(self.dataframe))\n",
    "        if self.shuffle == True:\n",
    "            np.random.shuffle(self.indices)\n"
   ]
  },
  {
   "cell_type": "markdown",
   "metadata": {
    "colab_type": "text",
    "id": "_3v3DxwurAKb"
   },
   "source": [
    "##Trainging the model (2 options)\n",
    "\n",
    " - Normal fit\n",
    " - Fit generator"
   ]
  },
  {
   "cell_type": "code",
   "execution_count": null,
   "metadata": {},
   "outputs": [],
   "source": []
  },
  {
   "cell_type": "code",
   "execution_count": 57,
   "metadata": {},
   "outputs": [
    {
     "name": "stdout",
     "output_type": "stream",
     "text": [
      "RESULT: lr= 0.0001 regularization= 0.0001  batch= 128 hidden factors= 8 [0.5940358085018582, 0.78935]\n",
      "RESULT: lr= 0.0001 regularization= 1e-06  batch= 128 hidden factors= 8 [0.5566599222515477, 0.783625]\n",
      "RESULT: lr= 0.0001 regularization= 1e-08  batch= 128 hidden factors= 8 [0.5488861268492844, 0.77905]\n",
      "RESULT: lr= 0.0001 regularization= 0.0001  batch= 128 hidden factors= 16 [0.7012362745895981, 0.8212]\n",
      "RESULT: lr= 0.0001 regularization= 1e-06  batch= 128 hidden factors= 16 [0.4389003849832341, 0.8211]\n",
      "RESULT: lr= 0.0001 regularization= 1e-08  batch= 128 hidden factors= 16 [0.4264857286374521, 0.81745]\n",
      "RESULT: lr= 0.0001 regularization= 0.0001  batch= 128 hidden factors= 32 [0.4157380153934762, 0.826225]\n",
      "RESULT: lr= 0.0001 regularization= 1e-06  batch= 128 hidden factors= 32 [0.4113773840139369, 0.826175]\n",
      "RESULT: lr= 0.0001 regularization= 1e-08  batch= 128 hidden factors= 32 [0.41112864056314513, 0.826275]\n",
      "RESULT: lr= 0.0001 regularization= 0.0001  batch= 128 hidden factors= 64 [0.4177341073443764, 0.824075]\n",
      "RESULT: lr= 0.0001 regularization= 1e-06  batch= 128 hidden factors= 64 [0.41462533167157656, 0.823025]\n",
      "RESULT: lr= 0.0001 regularization= 1e-08  batch= 128 hidden factors= 64 [0.414455297506506, 0.823175]\n",
      "RESULT: lr= 0.0001 regularization= 0.0001  batch= 256 hidden factors= 8 [0.8306973787561059, 0.7805]\n",
      "RESULT: lr= 0.0001 regularization= 1e-06  batch= 256 hidden factors= 8 [0.5455077419678331, 0.78905]\n",
      "RESULT: lr= 0.0001 regularization= 1e-08  batch= 256 hidden factors= 8 [0.5434549831796234, 0.784575]\n",
      "RESULT: lr= 0.0001 regularization= 0.0001  batch= 256 hidden factors= 16 [0.4221153425750963, 0.820525]\n",
      "RESULT: lr= 0.0001 regularization= 1e-06  batch= 256 hidden factors= 16 [0.42474161114561937, 0.81615]\n",
      "RESULT: lr= 0.0001 regularization= 1e-08  batch= 256 hidden factors= 16 [0.4181687343087105, 0.821175]\n",
      "RESULT: lr= 0.0001 regularization= 0.0001  batch= 256 hidden factors= 32 [0.4184293772889883, 0.8232]\n",
      "RESULT: lr= 0.0001 regularization= 1e-06  batch= 256 hidden factors= 32 [0.4158249012518264, 0.82225]\n",
      "RESULT: lr= 0.0001 regularization= 1e-08  batch= 256 hidden factors= 32 [0.41664106587719263, 0.822325]\n",
      "RESULT: lr= 0.0001 regularization= 0.0001  batch= 256 hidden factors= 64 [0.43406649842069017, 0.816075]\n",
      "RESULT: lr= 0.0001 regularization= 1e-06  batch= 256 hidden factors= 64 [0.43176157542394794, 0.815075]\n",
      "RESULT: lr= 0.0001 regularization= 1e-08  batch= 256 hidden factors= 64 [0.43174415291199447, 0.814575]\n",
      "RESULT: lr= 0.0001 regularization= 0.0001  batch= 512 hidden factors= 8 [0.610682703153789, 0.7815]\n",
      "RESULT: lr= 0.0001 regularization= 1e-06  batch= 512 hidden factors= 8 [8.18794605666399, 0.77765]\n",
      "RESULT: lr= 0.0001 regularization= 1e-08  batch= 512 hidden factors= 8 [0.5526476133615069, 0.782725]\n",
      "RESULT: lr= 0.0001 regularization= 0.0001  batch= 512 hidden factors= 16 [0.4288956029424444, 0.81655]\n",
      "RESULT: lr= 0.0001 regularization= 1e-06  batch= 512 hidden factors= 16 [0.42721602692693816, 0.816375]\n",
      "RESULT: lr= 0.0001 regularization= 1e-08  batch= 512 hidden factors= 16 [0.4279674706264039, 0.815175]\n",
      "RESULT: lr= 0.0001 regularization= 0.0001  batch= 512 hidden factors= 32 [0.436324046308198, 0.8132]\n",
      "RESULT: lr= 0.0001 regularization= 1e-06  batch= 512 hidden factors= 32 [0.4353430076674544, 0.81185]\n",
      "RESULT: lr= 0.0001 regularization= 1e-08  batch= 512 hidden factors= 32 [0.4352438846391841, 0.812225]\n",
      "RESULT: lr= 0.0001 regularization= 0.0001  batch= 512 hidden factors= 64 [0.4764258904610062, 0.794625]\n",
      "RESULT: lr= 0.0001 regularization= 1e-06  batch= 512 hidden factors= 64 [0.4745899417633889, 0.79255]\n",
      "RESULT: lr= 0.0001 regularization= 1e-08  batch= 512 hidden factors= 64 [0.474098838879331, 0.79315]\n",
      "RESULT: lr= 0.0001 regularization= 0.0001  batch= 1024 hidden factors= 8 [0.5826160615400411, 0.7719]\n",
      "RESULT: lr= 0.0001 regularization= 1e-06  batch= 1024 hidden factors= 8 [0.7179675183430314, 0.778875]\n",
      "RESULT: lr= 0.0001 regularization= 1e-08  batch= 1024 hidden factors= 8 [0.5501605803878465, 0.779325]\n",
      "RESULT: lr= 0.0001 regularization= 0.0001  batch= 1024 hidden factors= 16 [0.4490550328493729, 0.8029]\n",
      "RESULT: lr= 0.0001 regularization= 1e-06  batch= 1024 hidden factors= 16 [0.44874385540765344, 0.80385]\n",
      "RESULT: lr= 0.0001 regularization= 1e-08  batch= 1024 hidden factors= 16 [0.4474547588116966, 0.8031]\n",
      "RESULT: lr= 0.0001 regularization= 0.0001  batch= 1024 hidden factors= 32 [0.4766328096690238, 0.78885]\n",
      "RESULT: lr= 0.0001 regularization= 1e-06  batch= 1024 hidden factors= 32 [0.4752507495603735, 0.7875]\n",
      "RESULT: lr= 0.0001 regularization= 1e-08  batch= 1024 hidden factors= 32 [0.47515006089825557, 0.787775]\n",
      "RESULT: lr= 0.0001 regularization= 0.0001  batch= 1024 hidden factors= 64 [0.5414405341412872, 0.765175]\n",
      "RESULT: lr= 0.0001 regularization= 1e-06  batch= 1024 hidden factors= 64 [0.5369060746848583, 0.764125]\n",
      "RESULT: lr= 0.0001 regularization= 1e-08  batch= 1024 hidden factors= 64 [0.5370939841153101, 0.76375]\n",
      "RESULT: lr= 0.0005 regularization= 0.0001  batch= 128 hidden factors= 8 [0.7899055538840591, 0.78775]\n",
      "RESULT: lr= 0.0005 regularization= 1e-06  batch= 128 hidden factors= 8 [14.9139323854208, 0.7899]\n",
      "RESULT: lr= 0.0005 regularization= 1e-08  batch= 128 hidden factors= 8 [0.5334951923943523, 0.79055]\n",
      "RESULT: lr= 0.0005 regularization= 0.0001  batch= 128 hidden factors= 16 [0.4284749721637694, 0.820975]\n",
      "RESULT: lr= 0.0005 regularization= 1e-06  batch= 128 hidden factors= 16 [0.42057609072860924, 0.822025]\n",
      "RESULT: lr= 0.0005 regularization= 1e-08  batch= 128 hidden factors= 16 [0.42178161672536574, 0.819075]\n",
      "RESULT: lr= 0.0005 regularization= 0.0001  batch= 128 hidden factors= 32 [0.4149884365741163, 0.826]\n",
      "RESULT: lr= 0.0005 regularization= 1e-06  batch= 128 hidden factors= 32 [0.4111935667807646, 0.82665]\n",
      "RESULT: lr= 0.0005 regularization= 1e-08  batch= 128 hidden factors= 32 [0.41311390663972597, 0.8261]\n",
      "RESULT: lr= 0.0005 regularization= 0.0001  batch= 128 hidden factors= 64 [0.4176228341081529, 0.823775]\n",
      "RESULT: lr= 0.0005 regularization= 1e-06  batch= 128 hidden factors= 64 [0.41437030485588494, 0.82305]\n",
      "RESULT: lr= 0.0005 regularization= 1e-08  batch= 128 hidden factors= 64 [0.4139399578105327, 0.8226]\n",
      "RESULT: lr= 0.0005 regularization= 0.0001  batch= 256 hidden factors= 8 [0.5731251497952268, 0.788225]\n",
      "RESULT: lr= 0.0005 regularization= 1e-06  batch= 256 hidden factors= 8 [0.6106902755534276, 0.77955]\n",
      "RESULT: lr= 0.0005 regularization= 1e-08  batch= 256 hidden factors= 8 [0.5392535656352461, 0.7861]\n",
      "RESULT: lr= 0.0005 regularization= 0.0001  batch= 256 hidden factors= 16 [0.4590962154602632, 0.8187]\n",
      "RESULT: lr= 0.0005 regularization= 1e-06  batch= 256 hidden factors= 16 [0.4190545480766441, 0.82045]\n",
      "RESULT: lr= 0.0005 regularization= 1e-08  batch= 256 hidden factors= 16 [0.4180993196104695, 0.819275]\n",
      "RESULT: lr= 0.0005 regularization= 0.0001  batch= 256 hidden factors= 32 [0.4191721309437766, 0.823]\n",
      "RESULT: lr= 0.0005 regularization= 1e-06  batch= 256 hidden factors= 32 [0.4164119277737079, 0.8224]\n",
      "RESULT: lr= 0.0005 regularization= 1e-08  batch= 256 hidden factors= 32 [0.4164495352189098, 0.82215]\n",
      "RESULT: lr= 0.0005 regularization= 0.0001  batch= 256 hidden factors= 64 [0.43400111770987276, 0.8162]\n",
      "RESULT: lr= 0.0005 regularization= 1e-06  batch= 256 hidden factors= 64 [0.4317898046528873, 0.8148]\n",
      "RESULT: lr= 0.0005 regularization= 1e-08  batch= 256 hidden factors= 64 [0.43237056769076454, 0.814475]\n",
      "RESULT: lr= 0.0005 regularization= 0.0001  batch= 512 hidden factors= 8 [7.972637048196793, 0.7804]\n",
      "RESULT: lr= 0.0005 regularization= 1e-06  batch= 512 hidden factors= 8 [0.5498879688244982, 0.7793]\n",
      "RESULT: lr= 0.0005 regularization= 1e-08  batch= 512 hidden factors= 8 [0.5410562730556384, 0.783925]\n",
      "RESULT: lr= 0.0005 regularization= 0.0001  batch= 512 hidden factors= 16 [0.4297452123346564, 0.815675]\n",
      "RESULT: lr= 0.0005 regularization= 1e-06  batch= 512 hidden factors= 16 [0.4249215394760773, 0.81655]\n",
      "RESULT: lr= 0.0005 regularization= 1e-08  batch= 512 hidden factors= 16 [0.4263164604656442, 0.8162]\n",
      "RESULT: lr= 0.0005 regularization= 0.0001  batch= 512 hidden factors= 32 [0.4363900973982876, 0.8136]\n",
      "RESULT: lr= 0.0005 regularization= 1e-06  batch= 512 hidden factors= 32 [0.4355070897308399, 0.812275]\n"
     ]
    },
    {
     "name": "stdout",
     "output_type": "stream",
     "text": [
      "RESULT: lr= 0.0005 regularization= 1e-08  batch= 512 hidden factors= 32 [0.43513936900998995, 0.812225]\n",
      "RESULT: lr= 0.0005 regularization= 0.0001  batch= 512 hidden factors= 64 [0.4762408070119098, 0.795725]\n",
      "RESULT: lr= 0.0005 regularization= 1e-06  batch= 512 hidden factors= 64 [0.4742024579568999, 0.792875]\n",
      "RESULT: lr= 0.0005 regularization= 1e-08  batch= 512 hidden factors= 64 [0.4741175822557736, 0.7931]\n",
      "RESULT: lr= 0.0005 regularization= 0.0001  batch= 1024 hidden factors= 8 [0.7239589029010385, 0.77715]\n",
      "RESULT: lr= 0.0005 regularization= 1e-06  batch= 1024 hidden factors= 8 [0.7112083863809705, 0.771175]\n",
      "RESULT: lr= 0.0005 regularization= 1e-08  batch= 1024 hidden factors= 8 [0.5599329201498803, 0.7732]\n",
      "RESULT: lr= 0.0005 regularization= 0.0001  batch= 1024 hidden factors= 16 [0.44920519690711225, 0.80345]\n",
      "RESULT: lr= 0.0005 regularization= 1e-06  batch= 1024 hidden factors= 16 [0.44826920565959355, 0.8032]\n",
      "RESULT: lr= 0.0005 regularization= 1e-08  batch= 1024 hidden factors= 16 [0.44722683144406056, 0.8033]\n",
      "RESULT: lr= 0.0005 regularization= 0.0001  batch= 1024 hidden factors= 32 [0.47700295555575867, 0.78815]\n",
      "RESULT: lr= 0.0005 regularization= 1e-06  batch= 1024 hidden factors= 32 [0.4754117538256893, 0.78835]\n",
      "RESULT: lr= 0.0005 regularization= 1e-08  batch= 1024 hidden factors= 32 [0.47500198809552596, 0.7876]\n",
      "RESULT: lr= 0.0005 regularization= 0.0001  batch= 1024 hidden factors= 64 [0.5414833933738992, 0.765375]\n",
      "RESULT: lr= 0.0005 regularization= 1e-06  batch= 1024 hidden factors= 64 [0.5369287405449897, 0.764225]\n",
      "RESULT: lr= 0.0005 regularization= 1e-08  batch= 1024 hidden factors= 64 [0.5370618600525894, 0.764125]\n",
      "RESULT: lr= 0.001 regularization= 0.0001  batch= 128 hidden factors= 8 [0.5457629794623703, 0.793225]\n",
      "RESULT: lr= 0.001 regularization= 1e-06  batch= 128 hidden factors= 8 [165.78528918266295, 0.787675]\n",
      "RESULT: lr= 0.001 regularization= 1e-08  batch= 128 hidden factors= 8 [0.5421268827369615, 0.783425]\n",
      "RESULT: lr= 0.001 regularization= 0.0001  batch= 128 hidden factors= 16 [0.4187553839197382, 0.821275]\n",
      "RESULT: lr= 0.001 regularization= 1e-06  batch= 128 hidden factors= 16 [0.4195692721498417, 0.8196]\n",
      "RESULT: lr= 0.001 regularization= 1e-08  batch= 128 hidden factors= 16 [0.41836466328688593, 0.8211]\n",
      "RESULT: lr= 0.001 regularization= 0.0001  batch= 128 hidden factors= 32 [0.4157965938172769, 0.82645]\n",
      "RESULT: lr= 0.001 regularization= 1e-06  batch= 128 hidden factors= 32 [0.412148705079717, 0.82625]\n",
      "RESULT: lr= 0.001 regularization= 1e-08  batch= 128 hidden factors= 32 [0.41140445909076223, 0.826125]\n",
      "RESULT: lr= 0.001 regularization= 0.0001  batch= 128 hidden factors= 64 [0.41780729241749504, 0.8236]\n",
      "RESULT: lr= 0.001 regularization= 1e-06  batch= 128 hidden factors= 64 [0.4147091101503798, 0.8227]\n",
      "RESULT: lr= 0.001 regularization= 1e-08  batch= 128 hidden factors= 64 [0.4142523170096151, 0.82315]\n",
      "RESULT: lr= 0.001 regularization= 0.0001  batch= 256 hidden factors= 8 [0.8072610009208322, 0.790175]\n",
      "RESULT: lr= 0.001 regularization= 1e-06  batch= 256 hidden factors= 8 [0.5342362529165868, 0.787525]\n",
      "RESULT: lr= 0.001 regularization= 1e-08  batch= 256 hidden factors= 8 [0.5453698033680674, 0.788775]\n",
      "RESULT: lr= 0.001 regularization= 0.0001  batch= 256 hidden factors= 16 [0.42193818848864173, 0.821175]\n",
      "RESULT: lr= 0.001 regularization= 1e-06  batch= 256 hidden factors= 16 [0.4202223135831398, 0.820975]\n",
      "RESULT: lr= 0.001 regularization= 1e-08  batch= 256 hidden factors= 16 [0.42283939830387907, 0.81795]\n",
      "RESULT: lr= 0.001 regularization= 0.0001  batch= 256 hidden factors= 32 [0.41824309144332655, 0.822925]\n",
      "RESULT: lr= 0.001 regularization= 1e-06  batch= 256 hidden factors= 32 [0.41659103869824066, 0.822375]\n",
      "RESULT: lr= 0.001 regularization= 1e-08  batch= 256 hidden factors= 32 [0.4166995771618371, 0.8221]\n",
      "RESULT: lr= 0.001 regularization= 0.0001  batch= 256 hidden factors= 64 [0.43404246202037905, 0.815975]\n",
      "RESULT: lr= 0.001 regularization= 1e-06  batch= 256 hidden factors= 64 [0.43166197685140123, 0.81465]\n",
      "RESULT: lr= 0.001 regularization= 1e-08  batch= 256 hidden factors= 64 [0.4318884202734588, 0.814775]\n",
      "RESULT: lr= 0.001 regularization= 0.0001  batch= 512 hidden factors= 8 [0.6444218859540298, 0.78815]\n",
      "RESULT: lr= 0.001 regularization= 1e-06  batch= 512 hidden factors= 8 [0.531510317820475, 0.7906]\n",
      "RESULT: lr= 0.001 regularization= 1e-08  batch= 512 hidden factors= 8 [0.5612164691030652, 0.77225]\n",
      "RESULT: lr= 0.001 regularization= 0.0001  batch= 512 hidden factors= 16 [0.42774885624762393, 0.81625]\n",
      "RESULT: lr= 0.001 regularization= 1e-06  batch= 512 hidden factors= 16 [0.4269779901435004, 0.8165]\n",
      "RESULT: lr= 0.001 regularization= 1e-08  batch= 512 hidden factors= 16 [0.4304481802451072, 0.81475]\n",
      "RESULT: lr= 0.001 regularization= 0.0001  batch= 512 hidden factors= 32 [0.43648964246338584, 0.813125]\n",
      "RESULT: lr= 0.001 regularization= 1e-06  batch= 512 hidden factors= 32 [0.43529823895859243, 0.812225]\n",
      "RESULT: lr= 0.001 regularization= 1e-08  batch= 512 hidden factors= 32 [0.43497488935679623, 0.812325]\n",
      "RESULT: lr= 0.001 regularization= 0.0001  batch= 512 hidden factors= 64 [0.47639715655049075, 0.79535]\n",
      "RESULT: lr= 0.001 regularization= 1e-06  batch= 512 hidden factors= 64 [0.47430939872460004, 0.7929]\n",
      "RESULT: lr= 0.001 regularization= 1e-08  batch= 512 hidden factors= 64 [0.4740194183949352, 0.793075]\n",
      "RESULT: lr= 0.001 regularization= 0.0001  batch= 1024 hidden factors= 8 [0.8220185755051672, 0.771725]\n",
      "RESULT: lr= 0.001 regularization= 1e-06  batch= 1024 hidden factors= 8 [0.5549066640755351, 0.779]\n",
      "RESULT: lr= 0.001 regularization= 1e-08  batch= 1024 hidden factors= 8 [0.5667399094220673, 0.770575]\n",
      "RESULT: lr= 0.001 regularization= 0.0001  batch= 1024 hidden factors= 16 [0.4505883122727566, 0.802725]\n",
      "RESULT: lr= 0.001 regularization= 1e-06  batch= 1024 hidden factors= 16 [0.4473919196649899, 0.802925]\n",
      "RESULT: lr= 0.001 regularization= 1e-08  batch= 1024 hidden factors= 16 [0.45034362998227173, 0.802075]\n",
      "RESULT: lr= 0.001 regularization= 0.0001  batch= 1024 hidden factors= 32 [0.48037960943666985, 0.788375]\n",
      "RESULT: lr= 0.001 regularization= 1e-06  batch= 1024 hidden factors= 32 [0.4751024524170487, 0.788075]\n",
      "RESULT: lr= 0.001 regularization= 1e-08  batch= 1024 hidden factors= 32 [0.4751234068432607, 0.7879]\n",
      "RESULT: lr= 0.001 regularization= 0.0001  batch= 1024 hidden factors= 64 [0.5414541993423365, 0.765525]\n",
      "RESULT: lr= 0.001 regularization= 1e-06  batch= 1024 hidden factors= 64 [0.5370097374223173, 0.7645]\n",
      "RESULT: lr= 0.001 regularization= 1e-08  batch= 1024 hidden factors= 64 [0.5369339083962142, 0.764275]\n",
      "RESULT: lr= 0.005 regularization= 0.0001  batch= 128 hidden factors= 8 [8.583722798514366, 0.78765]\n",
      "RESULT: lr= 0.005 regularization= 1e-06  batch= 128 hidden factors= 8 [31.924505743312835, 0.78925]\n",
      "RESULT: lr= 0.005 regularization= 1e-08  batch= 128 hidden factors= 8 [1.6687432227402925, 0.78895]\n",
      "RESULT: lr= 0.005 regularization= 0.0001  batch= 128 hidden factors= 16 [0.6222704041071236, 0.81945]\n",
      "RESULT: lr= 0.005 regularization= 1e-06  batch= 128 hidden factors= 16 [0.47716991065591574, 0.82255]\n",
      "RESULT: lr= 0.005 regularization= 1e-08  batch= 128 hidden factors= 16 [0.41966502444132586, 0.819575]\n",
      "RESULT: lr= 0.005 regularization= 0.0001  batch= 128 hidden factors= 32 [0.41600995159709125, 0.82645]\n",
      "RESULT: lr= 0.005 regularization= 1e-06  batch= 128 hidden factors= 32 [0.41183998878205547, 0.826575]\n",
      "RESULT: lr= 0.005 regularization= 1e-08  batch= 128 hidden factors= 32 [0.4112912537500355, 0.8266]\n",
      "RESULT: lr= 0.005 regularization= 0.0001  batch= 128 hidden factors= 64 [0.4175950337802293, 0.823525]\n",
      "RESULT: lr= 0.005 regularization= 1e-06  batch= 128 hidden factors= 64 [0.41439766625280355, 0.822925]\n",
      "RESULT: lr= 0.005 regularization= 1e-08  batch= 128 hidden factors= 64 [0.41448022480273283, 0.823275]\n",
      "RESULT: lr= 0.005 regularization= 0.0001  batch= 256 hidden factors= 8 [3.826725566369295, 0.788225]\n",
      "RESULT: lr= 0.005 regularization= 1e-06  batch= 256 hidden factors= 8 [0.5423467537157907, 0.784325]\n",
      "RESULT: lr= 0.005 regularization= 1e-08  batch= 256 hidden factors= 8 [0.5461796417516843, 0.783975]\n",
      "RESULT: lr= 0.005 regularization= 0.0001  batch= 256 hidden factors= 16 [0.4242323113375751, 0.8198]\n",
      "RESULT: lr= 0.005 regularization= 1e-06  batch= 256 hidden factors= 16 [0.41967643056847503, 0.820525]\n"
     ]
    },
    {
     "name": "stdout",
     "output_type": "stream",
     "text": [
      "RESULT: lr= 0.005 regularization= 1e-08  batch= 256 hidden factors= 16 [0.4222670183958826, 0.8201]\n",
      "RESULT: lr= 0.005 regularization= 0.0001  batch= 256 hidden factors= 32 [0.41789079982425903, 0.82275]\n",
      "RESULT: lr= 0.005 regularization= 1e-06  batch= 256 hidden factors= 32 [0.4166341421470643, 0.822375]\n",
      "RESULT: lr= 0.005 regularization= 1e-08  batch= 256 hidden factors= 32 [0.41577595435585873, 0.822525]\n",
      "RESULT: lr= 0.005 regularization= 0.0001  batch= 256 hidden factors= 64 [0.4340823135837214, 0.81585]\n",
      "RESULT: lr= 0.005 regularization= 1e-06  batch= 256 hidden factors= 64 [0.43191401463543405, 0.814775]\n",
      "RESULT: lr= 0.005 regularization= 1e-08  batch= 256 hidden factors= 64 [0.431998569162296, 0.8148]\n",
      "RESULT: lr= 0.005 regularization= 0.0001  batch= 512 hidden factors= 8 [0.671676203070581, 0.771975]\n",
      "RESULT: lr= 0.005 regularization= 1e-06  batch= 512 hidden factors= 8 [0.5665159305208363, 0.77765]\n",
      "RESULT: lr= 0.005 regularization= 1e-08  batch= 512 hidden factors= 8 [0.5399345919097819, 0.78485]\n",
      "RESULT: lr= 0.005 regularization= 0.0001  batch= 512 hidden factors= 16 [0.4299559495542897, 0.815375]\n",
      "RESULT: lr= 0.005 regularization= 1e-06  batch= 512 hidden factors= 16 [0.4302502057431653, 0.814]\n",
      "RESULT: lr= 0.005 regularization= 1e-08  batch= 512 hidden factors= 16 [0.4273688952643955, 0.816125]\n",
      "RESULT: lr= 0.005 regularization= 0.0001  batch= 512 hidden factors= 32 [0.4362254589121323, 0.813425]\n",
      "RESULT: lr= 0.005 regularization= 1e-06  batch= 512 hidden factors= 32 [0.43543673362251184, 0.812325]\n",
      "RESULT: lr= 0.005 regularization= 1e-08  batch= 512 hidden factors= 32 [0.43528171883264966, 0.81235]\n",
      "RESULT: lr= 0.005 regularization= 0.0001  batch= 512 hidden factors= 64 [0.4765712179601425, 0.795075]\n",
      "RESULT: lr= 0.005 regularization= 1e-06  batch= 512 hidden factors= 64 [0.47423086734194075, 0.793175]\n",
      "RESULT: lr= 0.005 regularization= 1e-08  batch= 512 hidden factors= 64 [0.47419751980065483, 0.79295]\n",
      "RESULT: lr= 0.005 regularization= 0.0001  batch= 1024 hidden factors= 8 [2.4288213516145944, 0.776325]\n",
      "RESULT: lr= 0.005 regularization= 1e-06  batch= 1024 hidden factors= 8 [0.5553821720468485, 0.776325]\n",
      "RESULT: lr= 0.005 regularization= 1e-08  batch= 1024 hidden factors= 8 [0.5632394102343679, 0.77545]\n",
      "RESULT: lr= 0.005 regularization= 0.0001  batch= 1024 hidden factors= 16 [0.44952573947724306, 0.8031]\n",
      "RESULT: lr= 0.005 regularization= 1e-06  batch= 1024 hidden factors= 16 [0.4498782225157705, 0.802525]\n",
      "RESULT: lr= 0.005 regularization= 1e-08  batch= 1024 hidden factors= 16 [0.44819186734144184, 0.8026]\n",
      "RESULT: lr= 0.005 regularization= 0.0001  batch= 1024 hidden factors= 32 [0.47674951621062356, 0.7889]\n",
      "RESULT: lr= 0.005 regularization= 1e-06  batch= 1024 hidden factors= 32 [0.4749432680334719, 0.78815]\n",
      "RESULT: lr= 0.005 regularization= 1e-08  batch= 1024 hidden factors= 32 [0.47503243723325894, 0.787775]\n",
      "RESULT: lr= 0.005 regularization= 0.0001  batch= 1024 hidden factors= 64 [0.541550564463716, 0.76525]\n",
      "RESULT: lr= 0.005 regularization= 1e-06  batch= 1024 hidden factors= 64 [0.5374329442214221, 0.7642]\n",
      "RESULT: lr= 0.005 regularization= 1e-08  batch= 1024 hidden factors= 64 [0.5368003661614843, 0.764375]\n"
     ]
    }
   ],
   "source": [
    "\n",
    "for i in args.lr:\n",
    "    for j in args.batch:\n",
    "        for k in args.hidden_factors:\n",
    "            for l in args.regularizer:\n",
    "                model=create_model(neg_dataset,k,i,l)\n",
    "                history = model.fit([train.user_id, train.item_id], train.rating, batch_size=j, epochs=100,  verbose=0 )\n",
    "                results = model.evaluate((test.user_id, test.item_id), test.rating, batch_size=1,verbose=0)\n",
    "      \n",
    "                print('RESULT: lr=',i, 'regularization=',l, ' batch=', j, 'hidden factors=', k, results)"
   ]
  },
  {
   "cell_type": "code",
   "execution_count": null,
   "metadata": {
    "colab": {},
    "colab_type": "code",
    "id": "BiCP_zg97ZBO"
   },
   "outputs": [],
   "source": [
    "#1 Normal training with fit method (uncomment to run)\n",
    "\n",
    "history = model.fit([train.user_id, train.item_id], train.rating, batch_size=256, epochs=100,  verbose=2 )"
   ]
  },
  {
   "cell_type": "code",
   "execution_count": 49,
   "metadata": {
    "colab": {
     "base_uri": "https://localhost:8080/",
     "height": 85
    },
    "colab_type": "code",
    "id": "RDKMNgF6qKV6",
    "outputId": "007161d4-966b-4eaa-fd6c-cdd4596901a7"
   },
   "outputs": [],
   "source": [
    "#2  training with fit generator\n",
    "#train_generator = DataGenerator(dataframe=train, batch_size=256, shuffle=False)\n",
    "#val_generator = DataGenerator(dataframe=val, batch_size=256, shuffle=False)\n",
    "#history = model.fit(train_generator, epochs=100, verbose=2)"
   ]
  },
  {
   "cell_type": "code",
   "execution_count": 58,
   "metadata": {
    "colab": {},
    "colab_type": "code",
    "id": "3rBNDDvsAVz9"
   },
   "outputs": [
    {
     "data": {
      "text/plain": [
       "<matplotlib.legend.Legend at 0x20fdece4eb8>"
      ]
     },
     "execution_count": 58,
     "metadata": {},
     "output_type": "execute_result"
    },
    {
     "data": {
      "image/png": "[encoded data removed]",
      "text/plain": [
       "<Figure size 432x288 with 1 Axes>"
      ]
     },
     "metadata": {
      "needs_background": "light"
     },
     "output_type": "display_data"
    }
   ],
   "source": [
    "pd.Series(history.history['loss']).plot(logy=True)\n",
    "pd.Series(history.history['binary_accuracy']).plot(logy=True)\n",
    "plt.xlabel(\"Epoch\")\n",
    "plt.ylabel(\"Training Error\")\n",
    "plt.legend(['loss','binary_accuracy'])"
   ]
  },
  {
   "cell_type": "markdown",
   "metadata": {
    "colab_type": "text",
    "id": "zsUo0jOMAckI"
   },
   "source": [
    "Let's now see how our model does! I'll do a small post-processing step to round off our prediction to the nearest integer. This is usually not done, and thus just a whimsical step, since the training ratings are all integers! There are better ways to encode this intger requirement (one-hot encoding!), but we won't discuss them in this post."
   ]
  },
  {
   "cell_type": "code",
   "execution_count": null,
   "metadata": {
    "colab": {},
    "colab_type": "code",
    "id": "ib_XOvTf82YC"
   },
   "outputs": [],
   "source": [
    "results = model.evaluate((test.user_id, test.item_id), test.rating,\n",
    "                            batch_size=16)"
   ]
  },
  {
   "cell_type": "code",
   "execution_count": null,
   "metadata": {
    "colab": {},
    "colab_type": "code",
    "id": "2_KLYnwLXIHA",
    "scrolled": true
   },
   "outputs": [],
   "source": [
    "print(results)"
   ]
  },
  {
   "cell_type": "code",
   "execution_count": null,
   "metadata": {
    "colab": {},
    "colab_type": "code",
    "id": "9t-vHot_AbYw"
   },
   "outputs": [],
   "source": [
    "#y_hat = np.round(model.predict([test.user_id, test.item_id]),0)\n",
    "y_hat = model.predict([test.user_id, test.item_id])\n",
    "y_true = test.rating\n",
    "print('y_hat:', y_hat)\n",
    "print('y_true',y_true)"
   ]
  },
  {
   "cell_type": "code",
   "execution_count": null,
   "metadata": {
    "scrolled": true
   },
   "outputs": [],
   "source": [
    "y_true=y_true.to_numpy()\n",
    "y_true.shape= (1,400084)"
   ]
  },
  {
   "cell_type": "code",
   "execution_count": null,
   "metadata": {
    "scrolled": true
   },
   "outputs": [],
   "source": [
    "y_score=y_hat\n",
    "y_score\n"
   ]
  },
  {
   "cell_type": "code",
   "execution_count": null,
   "metadata": {},
   "outputs": [],
   "source": [
    "#y_temp=y_score.round()\n",
    "y_temp=y_score\n",
    "y_temp=y_temp.transpose()\n",
    "#y_true.shape=(1,400084)"
   ]
  },
  {
   "cell_type": "code",
   "execution_count": null,
   "metadata": {},
   "outputs": [],
   "source": [
    "print(type(y_temp))\n",
    "print(y_temp)\n",
    "print(y_temp.shape)\n",
    "\n",
    "print(type(y_true))\n",
    "print(y_true)\n",
    "print(y_true.shape)"
   ]
  },
  {
   "cell_type": "code",
   "execution_count": null,
   "metadata": {
    "colab": {},
    "colab_type": "code",
    "id": "J1uYaP30BECx"
   },
   "outputs": [],
   "source": [
    "from sklearn.metrics import mean_absolute_error\n",
    "mean_absolute_error(y_true, y_temp)"
   ]
  },
  {
   "cell_type": "code",
   "execution_count": null,
   "metadata": {
    "scrolled": true
   },
   "outputs": [],
   "source": [
    "from sklearn.metrics import accuracy_score\n",
    "accuracy_score(y_tr, y_pr)"
   ]
  },
  {
   "cell_type": "code",
   "execution_count": null,
   "metadata": {},
   "outputs": [],
   "source": [
    "#NDCG calculation\n",
    "from sklearn.metrics import ndcg_score\n",
    "#ndcg_score(y_true, y_hat,k=1,ignore_ties=True)\n",
    "ndcg_score(y_true, y_temp)"
   ]
  },
  {
   "cell_type": "code",
   "execution_count": null,
   "metadata": {},
   "outputs": [],
   "source": [
    "import numpy as np\n",
    "from sklearn.metrics import label_ranking_average_precision_score\n",
    "label_ranking_average_precision_score(y_true, y_temp)"
   ]
  },
  {
   "cell_type": "code",
   "execution_count": null,
   "metadata": {},
   "outputs": [],
   "source": [
    "for i in y_true:    \n",
    "    y_tr=i.tolist()\n",
    "#print(y_tr)\n",
    "print(type(y_tr))"
   ]
  },
  {
   "cell_type": "code",
   "execution_count": null,
   "metadata": {},
   "outputs": [],
   "source": [
    "for i in y_temp:\n",
    "    tmp=i.tolist()\n",
    "#print(y_tr)\n",
    "print(type(y_pr))"
   ]
  },
  {
   "cell_type": "code",
   "execution_count": null,
   "metadata": {},
   "outputs": [],
   "source": [
    "\n",
    "y_pr=[]\n",
    "for i in tmp:\n",
    "    y_pr.append(int(i))\n",
    "print(y_pr)"
   ]
  },
  {
   "cell_type": "code",
   "execution_count": null,
   "metadata": {
    "scrolled": true
   },
   "outputs": [],
   "source": [
    "from sklearn.metrics import recall_score\n",
    "#y_tr = [0, 1, 2, 0, 1, 2]\n",
    "#y_pr = [0, 2, 1, 0, 0, 1]\n",
    "recall_score(y_tr, y_pr, average='weighted')\n",
    "\n"
   ]
  },
  {
   "cell_type": "code",
   "execution_count": null,
   "metadata": {},
   "outputs": [],
   "source": [
    "#RESULTS\n",
    "print('Model 1 TEST result')\n",
    "print('Accuracy:',accuracy_score(y_tr, y_pr))\n",
    "print('Precision:',label_ranking_average_precision_score(y_true, y_temp))\n",
    "print('Recall:',recall_score(y_tr, y_pr, average='weighted'))\n",
    "print('NDCG:',ndcg_score(y_true, y_temp))\n",
    "\n",
    "\n"
   ]
  },
  {
   "cell_type": "markdown",
   "metadata": {
    "colab_type": "text",
    "id": "3SNJvRghFJhb"
   },
   "source": [
    "#Extracting the learnt embeddings\n",
    "We can extract the learnt movie and item embeddings as follows:"
   ]
  },
  {
   "cell_type": "code",
   "execution_count": null,
   "metadata": {
    "colab": {},
    "colab_type": "code",
    "id": "R2tfqNNoE--W"
   },
   "outputs": [],
   "source": [
    "movie_embedding_learnt = model.get_layer(name='Movie-Embedding').get_weights()[0]\n",
    "pd.DataFrame(movie_embedding_learnt).describe()"
   ]
  },
  {
   "cell_type": "code",
   "execution_count": null,
   "metadata": {
    "colab": {},
    "colab_type": "code",
    "id": "opKXs8LAFcBz"
   },
   "outputs": [],
   "source": [
    "user_embedding_learnt = model.get_layer(name='User-Embedding').get_weights()[0]\n",
    "pd.DataFrame(user_embedding_learnt).describe()"
   ]
  },
  {
   "cell_type": "code",
   "execution_count": null,
   "metadata": {
    "colab": {},
    "colab_type": "code",
    "id": "pgmUp9H4iM7Y"
   },
   "outputs": [],
   "source": [
    "user_embedding_learnt"
   ]
  },
  {
   "cell_type": "code",
   "execution_count": null,
   "metadata": {
    "colab": {},
    "colab_type": "code",
    "id": "VgE_sxM8d1ms"
   },
   "outputs": [],
   "source": [
    "user_embedding_learnt.shape"
   ]
  },
  {
   "cell_type": "code",
   "execution_count": null,
   "metadata": {
    "colab": {},
    "colab_type": "code",
    "id": "jSvJ_8NX5_nc"
   },
   "outputs": [],
   "source": [
    "#SVG(model_to_dot(model,  show_shapes=True, show_layer_names=True, rankdir='HB').create(prog='dot', format='svg'))"
   ]
  },
  {
   "cell_type": "markdown",
   "metadata": {
    "colab_type": "text",
    "id": "hWmburXptUYC"
   },
   "source": [
    "#Recommend top n movies"
   ]
  },
  {
   "cell_type": "code",
   "execution_count": null,
   "metadata": {
    "colab": {},
    "colab_type": "code",
    "id": "qYvdr240tYSi"
   },
   "outputs": [],
   "source": [
    "def recommend(user_id, number_of_movies=5):\n",
    "  movies = user_embedding_learnt[user_id]@movie_embedding_learnt.T\n",
    "  mids = np.argpartition(movies, -number_of_movies)[-number_of_movies:]\n",
    "  return mids"
   ]
  },
  {
   "cell_type": "code",
   "execution_count": null,
   "metadata": {
    "colab": {},
    "colab_type": "code",
    "id": "bFly9Tac2NIp"
   },
   "outputs": [],
   "source": [
    "recommend(user_id=1)"
   ]
  },
  {
   "cell_type": "markdown",
   "metadata": {
    "colab_type": "text",
    "id": "41TD2GmadI1f"
   },
   "source": []
  },
  {
   "cell_type": "markdown",
   "metadata": {
    "colab_type": "text",
    "id": "UAJLozbK_WLX"
   },
   "source": [
    "#Experimental results:\n",
    "A. NO scale\n",
    "1. array([ 482,   56, 1462, 1397, 1642]) --> normal training (fit) 100 epoches\n",
    "2. array([1638,  118, 1466, 1448, 1627]) --> generator training (fit_generator) 20 epoches\n",
    "3. array([ 901,  319, 1404, 1448, 1642])--> generator training (fit_generator) 50 epoches\n",
    "4. array([1642,  614,  588, 1193,  640]) --> GT 100 ep"
   ]
  },
  {
   "cell_type": "markdown",
   "metadata": {
    "colab_type": "text",
    "id": "-nhdII8e9LNZ"
   },
   "source": [
    "#References\n",
    "https://nipunbatra.github.io/blog/2017/recommend-keras.html\n",
    "\n",
    "https://medium.com/sfu-big-data/recommendation-systems-collaborative-filtering-using-matrix-factorization-simplified-2118f4ef2cd3\n",
    "\n",
    "[Keras regularizer](https://keras.io/regularizers/)"
   ]
  },
  {
   "cell_type": "code",
   "execution_count": null,
   "metadata": {
    "colab": {},
    "colab_type": "code",
    "id": "N3ZFWDz4v3ml"
   },
   "outputs": [],
   "source": []
  }
 ],
 "metadata": {
  "accelerator": "GPU",
  "colab": {
   "collapsed_sections": [],
   "name": "Model 1 for implicit data: Matrix factorization Movielens With data generator",
   "provenance": []
  },
  "kernelspec": {
   "display_name": "Python 3",
   "language": "python",
   "name": "python3"
  },
  "language_info": {
   "codemirror_mode": {
    "name": "ipython",
    "version": 3
   },
   "file_extension": ".py",
   "mimetype": "text/x-python",
   "name": "python",
   "nbconvert_exporter": "python",
   "pygments_lexer": "ipython3",
   "version": "3.7.7"
  }
 },
 "nbformat": 4,
 "nbformat_minor": 1
}
